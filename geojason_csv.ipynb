{
 "cells": [
  {
   "cell_type": "code",
   "execution_count": 53,
   "outputs": [],
   "source": [
    "import geopandas as gpd\n",
    "import pandas as pd\n",
    "from pandas import DataFrame"
   ],
   "metadata": {
    "collapsed": false,
    "pycharm": {
     "name": "#%%\n"
    }
   }
  },
  {
   "cell_type": "code",
   "execution_count": 55,
   "outputs": [
    {
     "data": {
      "text/plain": "        id                  date         date_reported            type  \\\n0        4  2021-05-27T22:34:00Z  2021-05-28T22:50:36Z        incident   \n1        7  2021-05-29T19:46:42Z  2021-05-29T20:01:09Z        incident   \n2        8  2021-05-31T17:54:58Z  2021-05-31T18:00:16Z         amenity   \n3       16  2021-06-04T17:31:46Z  2021-06-04T17:56:33Z        incident   \n4       17  2021-06-04T21:35:00Z  2021-06-04T21:41:11Z         amenity   \n...    ...                   ...                   ...             ...   \n1383  1987  2022-11-27T18:00:00Z  2022-12-04T20:03:10Z  hazard-concern   \n1384  1988  2022-12-04T19:55:30Z  2022-12-04T20:05:26Z  hazard-concern   \n1385  1989  2022-12-04T19:55:30Z  2022-12-04T20:08:21Z         amenity   \n1386  1990  2022-12-04T19:55:30Z  2022-12-04T20:11:31Z         amenity   \n1387  1991  2022-12-04T19:55:30Z  2022-12-04T20:13:56Z         amenity   \n\n      birth_year       gender         race disability disability_type  \\\n0           1971       female        white         no             NaN   \n1           2000  no-response  no-response         no             NaN   \n2           1982         male        white         no             NaN   \n3           1982         male        white         no             NaN   \n4           1993       female        white         no             NaN   \n...          ...          ...          ...        ...             ...   \n1383        1975         male        black         no             NaN   \n1384        1975       female        black         no             NaN   \n1385        1986         male        white         no             NaN   \n1386        1962         male       latino         no             NaN   \n1387        1998       female   indigenous        yes       cognitive   \n\n     mobility_aid mobility_aid_type            feature_type  \\\n0     no response               NaN               near-miss   \n1     no response               NaN               near-miss   \n2     no response               NaN                sidewalk   \n3     no response               NaN               near-miss   \n4     no response               NaN                 transit   \n...           ...               ...                     ...   \n1383  no response               NaN  safety/comfort concern   \n1384  no response               NaN  safety/comfort concern   \n1385  no response               NaN                sidewalk   \n1386  no response               NaN                sidewalk   \n1387           no               NaN                   other   \n\n                           feature_subtype         lon        lat  \\\n0                  vehicle-turning-head-on -123.434508  48.459019   \n1                    vehicle-turning-right -123.316472  48.433674   \n2                                      NaN -123.039638  49.288649   \n3                      vehicle-from-behind -123.036018  49.281230   \n4                                      NaN -123.193901  49.263620   \n...                                    ...         ...        ...   \n1383  vehicles - speed makes uncomfortable  -75.700354  45.497378   \n1384  vehicles - speed makes uncomfortable  -75.699729  45.501452   \n1385                                   NaN  -75.696871  45.496891   \n1386                                   NaN  -75.691793  45.504402   \n1387                                   NaN  -75.688054  45.504698   \n\n     gender_class  age age_class mobility_aid_type_class disability_type_class  \n0           Women   50     45-54             No response                  None  \n1     No Response   21     18-24             No response                  None  \n2             Men   39     35-44             No response                  None  \n3             Men   39     35-44             No response                  None  \n4           Women   28     25-34             No response                  None  \n...           ...  ...       ...                     ...                   ...  \n1383          Men   47     45-54             No response                  None  \n1384        Women   47     45-54             No response                  None  \n1385          Men   36     35-44             No response                  None  \n1386          Men   60     55-64             No response                  None  \n1387        Women   24     18-24                    None             Cognitive  \n\n[1388 rows x 20 columns]",
      "text/html": "<div>\n<style scoped>\n    .dataframe tbody tr th:only-of-type {\n        vertical-align: middle;\n    }\n\n    .dataframe tbody tr th {\n        vertical-align: top;\n    }\n\n    .dataframe thead th {\n        text-align: right;\n    }\n</style>\n<table border=\"1\" class=\"dataframe\">\n  <thead>\n    <tr style=\"text-align: right;\">\n      <th></th>\n      <th>id</th>\n      <th>date</th>\n      <th>date_reported</th>\n      <th>type</th>\n      <th>birth_year</th>\n      <th>gender</th>\n      <th>race</th>\n      <th>disability</th>\n      <th>disability_type</th>\n      <th>mobility_aid</th>\n      <th>mobility_aid_type</th>\n      <th>feature_type</th>\n      <th>feature_subtype</th>\n      <th>lon</th>\n      <th>lat</th>\n      <th>gender_class</th>\n      <th>age</th>\n      <th>age_class</th>\n      <th>mobility_aid_type_class</th>\n      <th>disability_type_class</th>\n    </tr>\n  </thead>\n  <tbody>\n    <tr>\n      <th>0</th>\n      <td>4</td>\n      <td>2021-05-27T22:34:00Z</td>\n      <td>2021-05-28T22:50:36Z</td>\n      <td>incident</td>\n      <td>1971</td>\n      <td>female</td>\n      <td>white</td>\n      <td>no</td>\n      <td>NaN</td>\n      <td>no response</td>\n      <td>NaN</td>\n      <td>near-miss</td>\n      <td>vehicle-turning-head-on</td>\n      <td>-123.434508</td>\n      <td>48.459019</td>\n      <td>Women</td>\n      <td>50</td>\n      <td>45-54</td>\n      <td>No response</td>\n      <td>None</td>\n    </tr>\n    <tr>\n      <th>1</th>\n      <td>7</td>\n      <td>2021-05-29T19:46:42Z</td>\n      <td>2021-05-29T20:01:09Z</td>\n      <td>incident</td>\n      <td>2000</td>\n      <td>no-response</td>\n      <td>no-response</td>\n      <td>no</td>\n      <td>NaN</td>\n      <td>no response</td>\n      <td>NaN</td>\n      <td>near-miss</td>\n      <td>vehicle-turning-right</td>\n      <td>-123.316472</td>\n      <td>48.433674</td>\n      <td>No Response</td>\n      <td>21</td>\n      <td>18-24</td>\n      <td>No response</td>\n      <td>None</td>\n    </tr>\n    <tr>\n      <th>2</th>\n      <td>8</td>\n      <td>2021-05-31T17:54:58Z</td>\n      <td>2021-05-31T18:00:16Z</td>\n      <td>amenity</td>\n      <td>1982</td>\n      <td>male</td>\n      <td>white</td>\n      <td>no</td>\n      <td>NaN</td>\n      <td>no response</td>\n      <td>NaN</td>\n      <td>sidewalk</td>\n      <td>NaN</td>\n      <td>-123.039638</td>\n      <td>49.288649</td>\n      <td>Men</td>\n      <td>39</td>\n      <td>35-44</td>\n      <td>No response</td>\n      <td>None</td>\n    </tr>\n    <tr>\n      <th>3</th>\n      <td>16</td>\n      <td>2021-06-04T17:31:46Z</td>\n      <td>2021-06-04T17:56:33Z</td>\n      <td>incident</td>\n      <td>1982</td>\n      <td>male</td>\n      <td>white</td>\n      <td>no</td>\n      <td>NaN</td>\n      <td>no response</td>\n      <td>NaN</td>\n      <td>near-miss</td>\n      <td>vehicle-from-behind</td>\n      <td>-123.036018</td>\n      <td>49.281230</td>\n      <td>Men</td>\n      <td>39</td>\n      <td>35-44</td>\n      <td>No response</td>\n      <td>None</td>\n    </tr>\n    <tr>\n      <th>4</th>\n      <td>17</td>\n      <td>2021-06-04T21:35:00Z</td>\n      <td>2021-06-04T21:41:11Z</td>\n      <td>amenity</td>\n      <td>1993</td>\n      <td>female</td>\n      <td>white</td>\n      <td>no</td>\n      <td>NaN</td>\n      <td>no response</td>\n      <td>NaN</td>\n      <td>transit</td>\n      <td>NaN</td>\n      <td>-123.193901</td>\n      <td>49.263620</td>\n      <td>Women</td>\n      <td>28</td>\n      <td>25-34</td>\n      <td>No response</td>\n      <td>None</td>\n    </tr>\n    <tr>\n      <th>...</th>\n      <td>...</td>\n      <td>...</td>\n      <td>...</td>\n      <td>...</td>\n      <td>...</td>\n      <td>...</td>\n      <td>...</td>\n      <td>...</td>\n      <td>...</td>\n      <td>...</td>\n      <td>...</td>\n      <td>...</td>\n      <td>...</td>\n      <td>...</td>\n      <td>...</td>\n      <td>...</td>\n      <td>...</td>\n      <td>...</td>\n      <td>...</td>\n      <td>...</td>\n    </tr>\n    <tr>\n      <th>1383</th>\n      <td>1987</td>\n      <td>2022-11-27T18:00:00Z</td>\n      <td>2022-12-04T20:03:10Z</td>\n      <td>hazard-concern</td>\n      <td>1975</td>\n      <td>male</td>\n      <td>black</td>\n      <td>no</td>\n      <td>NaN</td>\n      <td>no response</td>\n      <td>NaN</td>\n      <td>safety/comfort concern</td>\n      <td>vehicles - speed makes uncomfortable</td>\n      <td>-75.700354</td>\n      <td>45.497378</td>\n      <td>Men</td>\n      <td>47</td>\n      <td>45-54</td>\n      <td>No response</td>\n      <td>None</td>\n    </tr>\n    <tr>\n      <th>1384</th>\n      <td>1988</td>\n      <td>2022-12-04T19:55:30Z</td>\n      <td>2022-12-04T20:05:26Z</td>\n      <td>hazard-concern</td>\n      <td>1975</td>\n      <td>female</td>\n      <td>black</td>\n      <td>no</td>\n      <td>NaN</td>\n      <td>no response</td>\n      <td>NaN</td>\n      <td>safety/comfort concern</td>\n      <td>vehicles - speed makes uncomfortable</td>\n      <td>-75.699729</td>\n      <td>45.501452</td>\n      <td>Women</td>\n      <td>47</td>\n      <td>45-54</td>\n      <td>No response</td>\n      <td>None</td>\n    </tr>\n    <tr>\n      <th>1385</th>\n      <td>1989</td>\n      <td>2022-12-04T19:55:30Z</td>\n      <td>2022-12-04T20:08:21Z</td>\n      <td>amenity</td>\n      <td>1986</td>\n      <td>male</td>\n      <td>white</td>\n      <td>no</td>\n      <td>NaN</td>\n      <td>no response</td>\n      <td>NaN</td>\n      <td>sidewalk</td>\n      <td>NaN</td>\n      <td>-75.696871</td>\n      <td>45.496891</td>\n      <td>Men</td>\n      <td>36</td>\n      <td>35-44</td>\n      <td>No response</td>\n      <td>None</td>\n    </tr>\n    <tr>\n      <th>1386</th>\n      <td>1990</td>\n      <td>2022-12-04T19:55:30Z</td>\n      <td>2022-12-04T20:11:31Z</td>\n      <td>amenity</td>\n      <td>1962</td>\n      <td>male</td>\n      <td>latino</td>\n      <td>no</td>\n      <td>NaN</td>\n      <td>no response</td>\n      <td>NaN</td>\n      <td>sidewalk</td>\n      <td>NaN</td>\n      <td>-75.691793</td>\n      <td>45.504402</td>\n      <td>Men</td>\n      <td>60</td>\n      <td>55-64</td>\n      <td>No response</td>\n      <td>None</td>\n    </tr>\n    <tr>\n      <th>1387</th>\n      <td>1991</td>\n      <td>2022-12-04T19:55:30Z</td>\n      <td>2022-12-04T20:13:56Z</td>\n      <td>amenity</td>\n      <td>1998</td>\n      <td>female</td>\n      <td>indigenous</td>\n      <td>yes</td>\n      <td>cognitive</td>\n      <td>no</td>\n      <td>NaN</td>\n      <td>other</td>\n      <td>NaN</td>\n      <td>-75.688054</td>\n      <td>45.504698</td>\n      <td>Women</td>\n      <td>24</td>\n      <td>18-24</td>\n      <td>None</td>\n      <td>Cognitive</td>\n    </tr>\n  </tbody>\n</table>\n<p>1388 rows × 20 columns</p>\n</div>"
     },
     "execution_count": 55,
     "metadata": {},
     "output_type": "execute_result"
    }
   ],
   "source": [
    "path = \"wrm_demographics_2022-12-05.csv\"\n",
    "ir_fields =['description','geometry',]\n",
    "data_0 = pd.read_csv(path)\n",
    "data = data_0.drop(ir_fields,axis=1)\n",
    "data"
   ],
   "metadata": {
    "collapsed": false,
    "pycharm": {
     "name": "#%%\n"
    }
   }
  },
  {
   "cell_type": "code",
   "execution_count": 56,
   "outputs": [
    {
     "name": "stdout",
     "output_type": "stream",
     "text": [
      "                      count\n",
      "date                       \n",
      "2022-03-01T16:06:54Z     19\n",
      "2022-11-02T16:36:45Z     11\n",
      "2022-11-09T20:02:47Z     10\n",
      "2022-02-01T19:05:13Z      8\n",
      "2022-05-11T17:08:24Z      8\n",
      "...                     ...\n",
      "2022-02-01T16:06:00Z      1\n",
      "2022-02-01T16:09:17Z      1\n",
      "2022-02-01T16:49:59Z      1\n",
      "2022-02-01T18:17:17Z      1\n",
      "2022-04-15T17:50:00Z      1\n",
      "\n",
      "[1084 rows x 1 columns]\n",
      "\n",
      "\n",
      "                      count\n",
      "date_reported              \n",
      "2022-05-11T18:17:20Z      3\n",
      "2021-12-08T16:20:36Z      3\n",
      "2022-08-21T19:14:12Z      2\n",
      "2022-01-10T03:12:37Z      2\n",
      "2022-08-11T03:27:50Z      1\n",
      "...                     ...\n",
      "2022-02-24T17:18:05Z      1\n",
      "2022-02-24T17:08:02Z      1\n",
      "2022-02-24T16:56:41Z      1\n",
      "2022-02-24T16:50:43Z      1\n",
      "2022-12-04T20:13:56Z      1\n",
      "\n",
      "[1382 rows x 1 columns]\n",
      "\n",
      "\n",
      "                count\n",
      "type                 \n",
      "hazard-concern    737\n",
      "amenity           475\n",
      "incident          176\n",
      "\n",
      "\n",
      "            count\n",
      "birth_year       \n",
      "1986          102\n",
      "1997           51\n",
      "1985           50\n",
      "1971           47\n",
      "1982           46\n",
      "...           ...\n",
      "1942            1\n",
      "1936            1\n",
      "2007            1\n",
      "2009            1\n",
      "1937            1\n",
      "\n",
      "[76 rows x 1 columns]\n",
      "\n",
      "\n",
      "                                           count\n",
      "gender                                          \n",
      "female                                       670\n",
      "male                                         522\n",
      "no response                                  166\n",
      "other                                         11\n",
      "other - Transmasculine                         4\n",
      "other - Non binary                             3\n",
      "other - Non-binary                             2\n",
      "other - Non binaire                            1\n",
      "other - agender                                1\n",
      "other - Parents et enfants de tous genres      1\n",
      "other - Nb                                     1\n",
      "other - Non Binary                             1\n",
      "other - Male                                   1\n",
      "no-response                                    1\n",
      "no response - Féminin                          1\n",
      "male - Test                                    1\n",
      "other - non-binary                             1\n",
      "\n",
      "\n",
      "                                          count\n",
      "race                                           \n",
      "white                                      1009\n",
      "no response                                 233\n",
      "other                                        18\n",
      "indigenous                                   16\n",
      "southeast asian                              13\n",
      "south asisan                                 10\n",
      "middle eastern                                9\n",
      "indigenous,white                              9\n",
      "east asian                                    8\n",
      "black                                         7\n",
      "latino                                        7\n",
      "latino,white                                  6\n",
      "south asisan,white                            6\n",
      "white,indigenous                              5\n",
      "white,south asisan                            4\n",
      "indigenous,latino                             3\n",
      "white,latino                                  2\n",
      "middle eastern,white                          2\n",
      "southeast asian,east asian                    2\n",
      "white,middle eastern                          1\n",
      "white,black                                   1\n",
      "white,other                                   1\n",
      "southeast asian,white                         1\n",
      "southeast asian,south asisan                  1\n",
      "other, Parent                                 1\n",
      "other,Brad                                    1\n",
      "other, Worker                                 1\n",
      "other, Test                                   1\n",
      "other, Pas d'origine précise                  1\n",
      "black,east asian,indigenous,south asisan      1\n",
      "other, Dutch canadian                         1\n",
      "other, Brad sweezey                           1\n",
      "no-response                                   1\n",
      "latino,middle eastern,south asisan            1\n",
      "indigenous,east asian                         1\n",
      "east asian,southeast asian                    1\n",
      "black,white,other, Disabled senior            1\n",
      "white,southeast asian                         1\n",
      "\n",
      "\n",
      "             count\n",
      "disability        \n",
      "no            1121\n",
      "yes            150\n",
      "no response    117\n",
      "\n",
      "\n",
      "                                           count\n",
      "disability_type                                 \n",
      "mobility                                      81\n",
      "cognitive                                     31\n",
      "no response                                    8\n",
      "other                                          7\n",
      "other - Autism                                 5\n",
      "other - Fractures                              4\n",
      "hearing                                        3\n",
      "visual                                         3\n",
      "other - Mental health/ digestive               2\n",
      "other - Misophia                               2\n",
      "other - Cronic Fibromyalgia/mygraine etc.      1\n",
      "other - Heart                                  1\n",
      "other - Spinal fractures                       1\n",
      "other - mobility and supplemental oxygen       1\n",
      "\n",
      "\n",
      "              count\n",
      "mobility_aid       \n",
      "no response    1241\n",
      "yes              86\n",
      "no               61\n",
      "\n",
      "\n",
      "                                                  count\n",
      "mobility_aid_type                                      \n",
      "cane                                                 26\n",
      "powered                                              21\n",
      "walker                                               18\n",
      "wheel chair                                          13\n",
      "other                                                 3\n",
      "crutches                                              1\n",
      "other - Braces                                        1\n",
      "other - Sports brace for my torn ACL & Meniscus.      1\n",
      "other - Walking poles/mobility scooter                1\n",
      "service dog                                           1\n",
      "\n",
      "\n",
      "                                       count\n",
      "feature_type                                \n",
      "crossing issue                           271\n",
      "safety/comfort concern                   230\n",
      "sidewalk                                 202\n",
      "side walk infrastructure issue           202\n",
      "near miss                                129\n",
      "marked crosswalk                          99\n",
      "other                                     41\n",
      "hit by                                    36\n",
      "weather related or seasonal               34\n",
      "traffic or pedestrian signal              22\n",
      "connections (e.g. cut-through needed)     21\n",
      "curb cut                                  19\n",
      "benches                                   16\n",
      "lighting or additional lighting           13\n",
      "washroom                                  12\n",
      "wayfinding signs                          11\n",
      "fall                                       7\n",
      "shade in summer                            7\n",
      "near-miss                                  4\n",
      "stop sign                                  4\n",
      "access to transit stop                     4\n",
      "audible                                    2\n",
      "transit                                    1\n",
      "water fountain                             1\n",
      "\n",
      "\n",
      "                                                    count\n",
      "feature_subtype                                          \n",
      "other                                                 134\n",
      "vehicles - speed makes uncomfortable                   98\n",
      "drivers don't stop or yield to pedestrians             95\n",
      "vehicle turning head-on                                61\n",
      "obstruction - uneven sidewalk (eg. roots, holes...     57\n",
      "crosswalk needed                                       46\n",
      "vehicle turning left                                   39\n",
      "other users - bicycle                                  36\n",
      "vehicle turning right                                  31\n",
      "signal - pedestrian interval too short                 28\n",
      "poor visibility of pedestrians                         26\n",
      "too narrrow                                            24\n",
      "obstruction - inadequate or lack of safe detour...     19\n",
      "snow                                                   18\n",
      "obstruction - pole (hydro, telephone)                  16\n",
      "vehicles - number makes uncomfortable                  16\n",
      "conflict with vehicles turning right                   16\n",
      "obstruction - vegetaion that narrows pathway           14\n",
      "vehicle from behind                                    12\n",
      "signal - wait time to cross too long                   12\n",
      "missing curb cut                                       11\n",
      "personal safety - inaequate lighting                   10\n",
      "conflict with vehicles turning left                     8\n",
      "cyclist                                                 8\n",
      "uncomfortable service (for wheelchairs, etc.)           8\n",
      "vehicle turning right on red                            6\n",
      "ice                                                     6\n",
      "obstruction - parked vehicles or delivery vans          6\n",
      "slope issues (eg. driveways)                            5\n",
      "other users - dogs                                      5\n",
      "other users - mobility scooters/electric wheelc...      4\n",
      "crosswalk markings no longer visible                    4\n",
      "signal - button difficult to access                     4\n",
      "leaves                                                  3\n",
      "animal                                                  3\n",
      "slipped                                                 3\n",
      "personal safety - harassement or unwanted atten...      3\n",
      "tripped                                                 2\n",
      "signal - needs an audible                               2\n",
      "puddles, flooding, splash zone                          2\n",
      "personal safety - isolated                              2\n",
      "conflict with vehicles turning righton red              2\n",
      "obstruction - garbage or recycling bins                 1\n",
      "personal safety - gathering of unknown people           1\n",
      "obstruction - sign blocking path                        1\n",
      "vehicle-from-behind                                     1\n",
      "vehicle-turning-head-on                                 1\n",
      "vehicle-turning-left                                    1\n",
      "vehicle-turning-right                                   1\n",
      "obstruction - bus shelter                               1\n",
      "\n",
      "\n",
      "             count\n",
      "lon               \n",
      "-82.404616       4\n",
      "-123.344677      3\n",
      "-106.670091      2\n",
      "-123.361187      2\n",
      "-106.645597      2\n",
      "...            ...\n",
      "-123.358347      1\n",
      "-123.358611      1\n",
      "-123.358743      1\n",
      "-123.358818      1\n",
      " 174.777201      1\n",
      "\n",
      "[1380 rows x 1 columns]\n",
      "\n",
      "\n",
      "           count\n",
      "lat             \n",
      "34.854722      4\n",
      "48.440242      3\n",
      "52.126221      2\n",
      "52.122265      2\n",
      "48.432648      2\n",
      "...          ...\n",
      "46.816737      1\n",
      "46.815675      1\n",
      "46.815304      1\n",
      "46.814810      1\n",
      "60.729567      1\n",
      "\n",
      "[1379 rows x 1 columns]\n",
      "\n",
      "\n",
      "              count\n",
      "gender_class       \n",
      "Women           670\n",
      "Men             522\n",
      "No Response     174\n",
      "Non-Binary       22\n",
      "\n",
      "\n",
      "     count\n",
      "age       \n",
      "36     106\n",
      "37      58\n",
      "25      56\n",
      "40      49\n",
      "42      47\n",
      "..     ...\n",
      "91       1\n",
      "94       1\n",
      "97       1\n",
      "99       1\n",
      "15       1\n",
      "\n",
      "[79 rows x 1 columns]\n",
      "\n",
      "\n",
      "              count\n",
      "age_class          \n",
      "35-44           409\n",
      "25-34           282\n",
      "45-54           200\n",
      "55-64           159\n",
      "18-24           123\n",
      "65-74           107\n",
      "75+              61\n",
      "12 and under     34\n",
      "13-17            13\n",
      "\n",
      "\n",
      "                         count\n",
      "mobility_aid_type_class       \n",
      "No response               1241\n",
      "None                        61\n",
      "Cane/Crutches/Walker        45\n",
      "Wheel chair                 34\n",
      "Other                        7\n",
      "\n",
      "\n",
      "                       count\n",
      "disability_type_class       \n",
      "None                    1121\n",
      "No Response              125\n",
      "Mobility                  81\n",
      "Cognitive                 31\n",
      "Other                     24\n",
      "Hearing                    3\n",
      "Visual                     3\n",
      "\n",
      "\n"
     ]
    }
   ],
   "source": [
    "for i in range(1,len(data.columns)):\n",
    "    print(DataFrame(data.groupby(data.columns[i]).count()['id'].rename('count').sort_values(ascending=False)))\n",
    "    print('\\n')"
   ],
   "metadata": {
    "collapsed": false,
    "pycharm": {
     "name": "#%%\n"
    }
   }
  },
  {
   "cell_type": "markdown",
   "source": [
    "#### Time (time and weekend VS week)"
   ],
   "metadata": {
    "collapsed": false,
    "pycharm": {
     "name": "#%% md\n"
    }
   }
  },
  {
   "cell_type": "code",
   "execution_count": 58,
   "outputs": [
    {
     "data": {
      "text/plain": "'2021-05-27T22:34:00Z'"
     },
     "execution_count": 58,
     "metadata": {},
     "output_type": "execute_result"
    }
   ],
   "source": [
    "date = data['date'][0]\n",
    "date"
   ],
   "metadata": {
    "collapsed": false,
    "pycharm": {
     "name": "#%%\n"
    }
   }
  },
  {
   "cell_type": "code",
   "execution_count": 68,
   "outputs": [
    {
     "ename": "TypeError",
     "evalue": "Cannot convert input [0       2021-05-27T22:34:00Z\n1       2021-05-29T19:46:42Z\n2       2021-05-31T17:54:58Z\n3       2021-06-04T17:31:46Z\n4       2021-06-04T21:35:00Z\n                ...         \n1383    2022-11-27T18:00:00Z\n1384    2022-12-04T19:55:30Z\n1385    2022-12-04T19:55:30Z\n1386    2022-12-04T19:55:30Z\n1387    2022-12-04T19:55:30Z\nName: date, Length: 1388, dtype: object] of type <class 'pandas.core.series.Series'> to Timestamp",
     "output_type": "error",
     "traceback": [
      "\u001B[1;31m---------------------------------------------------------------------------\u001B[0m",
      "\u001B[1;31mTypeError\u001B[0m                                 Traceback (most recent call last)",
      "Cell \u001B[1;32mIn [68], line 1\u001B[0m\n\u001B[1;32m----> 1\u001B[0m data[\u001B[38;5;124m'\u001B[39m\u001B[38;5;124mtimestamp\u001B[39m\u001B[38;5;124m'\u001B[39m] \u001B[38;5;241m=\u001B[39m \u001B[43mpd\u001B[49m\u001B[38;5;241;43m.\u001B[39;49m\u001B[43mTimestamp\u001B[49m\u001B[43m(\u001B[49m\u001B[43mdata\u001B[49m\u001B[43m[\u001B[49m\u001B[38;5;124;43m'\u001B[39;49m\u001B[38;5;124;43mdate\u001B[39;49m\u001B[38;5;124;43m'\u001B[39;49m\u001B[43m]\u001B[49m\u001B[43m)\u001B[49m\n",
      "File \u001B[1;32m~\\anaconda3\\envs\\ox\\lib\\site-packages\\pandas\\_libs\\tslibs\\timestamps.pyx:1699\u001B[0m, in \u001B[0;36mpandas._libs.tslibs.timestamps.Timestamp.__new__\u001B[1;34m()\u001B[0m\n",
      "File \u001B[1;32m~\\anaconda3\\envs\\ox\\lib\\site-packages\\pandas\\_libs\\tslibs\\conversion.pyx:311\u001B[0m, in \u001B[0;36mpandas._libs.tslibs.conversion.convert_to_tsobject\u001B[1;34m()\u001B[0m\n",
      "\u001B[1;31mTypeError\u001B[0m: Cannot convert input [0       2021-05-27T22:34:00Z\n1       2021-05-29T19:46:42Z\n2       2021-05-31T17:54:58Z\n3       2021-06-04T17:31:46Z\n4       2021-06-04T21:35:00Z\n                ...         \n1383    2022-11-27T18:00:00Z\n1384    2022-12-04T19:55:30Z\n1385    2022-12-04T19:55:30Z\n1386    2022-12-04T19:55:30Z\n1387    2022-12-04T19:55:30Z\nName: date, Length: 1388, dtype: object] of type <class 'pandas.core.series.Series'> to Timestamp"
     ]
    }
   ],
   "source": [
    "data['timestamp'] = pd.Timestamp(data['date'])"
   ],
   "metadata": {
    "collapsed": false,
    "pycharm": {
     "name": "#%%\n"
    }
   }
  },
  {
   "cell_type": "code",
   "execution_count": 65,
   "outputs": [
    {
     "ename": "KeyError",
     "evalue": "\"['timestamp'] not in index\"",
     "output_type": "error",
     "traceback": [
      "\u001B[1;31m---------------------------------------------------------------------------\u001B[0m",
      "\u001B[1;31mKeyError\u001B[0m                                  Traceback (most recent call last)",
      "Cell \u001B[1;32mIn [65], line 1\u001B[0m\n\u001B[1;32m----> 1\u001B[0m \u001B[43mdata\u001B[49m\u001B[43m[\u001B[49m\u001B[43m[\u001B[49m\u001B[38;5;124;43m'\u001B[39;49m\u001B[38;5;124;43mtimestamp\u001B[39;49m\u001B[38;5;124;43m'\u001B[39;49m\u001B[43m,\u001B[49m\u001B[38;5;124;43m'\u001B[39;49m\u001B[38;5;124;43mdate\u001B[39;49m\u001B[38;5;124;43m'\u001B[39;49m\u001B[43m]\u001B[49m\u001B[43m]\u001B[49m\n",
      "File \u001B[1;32m~\\anaconda3\\envs\\ox\\lib\\site-packages\\pandas\\core\\frame.py:3811\u001B[0m, in \u001B[0;36mDataFrame.__getitem__\u001B[1;34m(self, key)\u001B[0m\n\u001B[0;32m   3809\u001B[0m     \u001B[38;5;28;01mif\u001B[39;00m is_iterator(key):\n\u001B[0;32m   3810\u001B[0m         key \u001B[38;5;241m=\u001B[39m \u001B[38;5;28mlist\u001B[39m(key)\n\u001B[1;32m-> 3811\u001B[0m     indexer \u001B[38;5;241m=\u001B[39m \u001B[38;5;28;43mself\u001B[39;49m\u001B[38;5;241;43m.\u001B[39;49m\u001B[43mcolumns\u001B[49m\u001B[38;5;241;43m.\u001B[39;49m\u001B[43m_get_indexer_strict\u001B[49m\u001B[43m(\u001B[49m\u001B[43mkey\u001B[49m\u001B[43m,\u001B[49m\u001B[43m \u001B[49m\u001B[38;5;124;43m\"\u001B[39;49m\u001B[38;5;124;43mcolumns\u001B[39;49m\u001B[38;5;124;43m\"\u001B[39;49m\u001B[43m)\u001B[49m[\u001B[38;5;241m1\u001B[39m]\n\u001B[0;32m   3813\u001B[0m \u001B[38;5;66;03m# take() does not accept boolean indexers\u001B[39;00m\n\u001B[0;32m   3814\u001B[0m \u001B[38;5;28;01mif\u001B[39;00m \u001B[38;5;28mgetattr\u001B[39m(indexer, \u001B[38;5;124m\"\u001B[39m\u001B[38;5;124mdtype\u001B[39m\u001B[38;5;124m\"\u001B[39m, \u001B[38;5;28;01mNone\u001B[39;00m) \u001B[38;5;241m==\u001B[39m \u001B[38;5;28mbool\u001B[39m:\n",
      "File \u001B[1;32m~\\anaconda3\\envs\\ox\\lib\\site-packages\\pandas\\core\\indexes\\base.py:6108\u001B[0m, in \u001B[0;36mIndex._get_indexer_strict\u001B[1;34m(self, key, axis_name)\u001B[0m\n\u001B[0;32m   6105\u001B[0m \u001B[38;5;28;01melse\u001B[39;00m:\n\u001B[0;32m   6106\u001B[0m     keyarr, indexer, new_indexer \u001B[38;5;241m=\u001B[39m \u001B[38;5;28mself\u001B[39m\u001B[38;5;241m.\u001B[39m_reindex_non_unique(keyarr)\n\u001B[1;32m-> 6108\u001B[0m \u001B[38;5;28;43mself\u001B[39;49m\u001B[38;5;241;43m.\u001B[39;49m\u001B[43m_raise_if_missing\u001B[49m\u001B[43m(\u001B[49m\u001B[43mkeyarr\u001B[49m\u001B[43m,\u001B[49m\u001B[43m \u001B[49m\u001B[43mindexer\u001B[49m\u001B[43m,\u001B[49m\u001B[43m \u001B[49m\u001B[43maxis_name\u001B[49m\u001B[43m)\u001B[49m\n\u001B[0;32m   6110\u001B[0m keyarr \u001B[38;5;241m=\u001B[39m \u001B[38;5;28mself\u001B[39m\u001B[38;5;241m.\u001B[39mtake(indexer)\n\u001B[0;32m   6111\u001B[0m \u001B[38;5;28;01mif\u001B[39;00m \u001B[38;5;28misinstance\u001B[39m(key, Index):\n\u001B[0;32m   6112\u001B[0m     \u001B[38;5;66;03m# GH 42790 - Preserve name from an Index\u001B[39;00m\n",
      "File \u001B[1;32m~\\anaconda3\\envs\\ox\\lib\\site-packages\\pandas\\core\\indexes\\base.py:6171\u001B[0m, in \u001B[0;36mIndex._raise_if_missing\u001B[1;34m(self, key, indexer, axis_name)\u001B[0m\n\u001B[0;32m   6168\u001B[0m     \u001B[38;5;28;01mraise\u001B[39;00m \u001B[38;5;167;01mKeyError\u001B[39;00m(\u001B[38;5;124mf\u001B[39m\u001B[38;5;124m\"\u001B[39m\u001B[38;5;124mNone of [\u001B[39m\u001B[38;5;132;01m{\u001B[39;00mkey\u001B[38;5;132;01m}\u001B[39;00m\u001B[38;5;124m] are in the [\u001B[39m\u001B[38;5;132;01m{\u001B[39;00maxis_name\u001B[38;5;132;01m}\u001B[39;00m\u001B[38;5;124m]\u001B[39m\u001B[38;5;124m\"\u001B[39m)\n\u001B[0;32m   6170\u001B[0m not_found \u001B[38;5;241m=\u001B[39m \u001B[38;5;28mlist\u001B[39m(ensure_index(key)[missing_mask\u001B[38;5;241m.\u001B[39mnonzero()[\u001B[38;5;241m0\u001B[39m]]\u001B[38;5;241m.\u001B[39munique())\n\u001B[1;32m-> 6171\u001B[0m \u001B[38;5;28;01mraise\u001B[39;00m \u001B[38;5;167;01mKeyError\u001B[39;00m(\u001B[38;5;124mf\u001B[39m\u001B[38;5;124m\"\u001B[39m\u001B[38;5;132;01m{\u001B[39;00mnot_found\u001B[38;5;132;01m}\u001B[39;00m\u001B[38;5;124m not in index\u001B[39m\u001B[38;5;124m\"\u001B[39m)\n",
      "\u001B[1;31mKeyError\u001B[0m: \"['timestamp'] not in index\""
     ]
    }
   ],
   "source": [
    "data[['timestamp','date']]"
   ],
   "metadata": {
    "collapsed": false,
    "pycharm": {
     "name": "#%%\n"
    }
   }
  },
  {
   "cell_type": "code",
   "execution_count": 66,
   "outputs": [
    {
     "data": {
      "text/plain": "        id                  date         date_reported            type  \\\n0        4  2021-05-27T22:34:00Z  2021-05-28T22:50:36Z        incident   \n1        7  2021-05-29T19:46:42Z  2021-05-29T20:01:09Z        incident   \n2        8  2021-05-31T17:54:58Z  2021-05-31T18:00:16Z         amenity   \n3       16  2021-06-04T17:31:46Z  2021-06-04T17:56:33Z        incident   \n4       17  2021-06-04T21:35:00Z  2021-06-04T21:41:11Z         amenity   \n...    ...                   ...                   ...             ...   \n1383  1987  2022-11-27T18:00:00Z  2022-12-04T20:03:10Z  hazard-concern   \n1384  1988  2022-12-04T19:55:30Z  2022-12-04T20:05:26Z  hazard-concern   \n1385  1989  2022-12-04T19:55:30Z  2022-12-04T20:08:21Z         amenity   \n1386  1990  2022-12-04T19:55:30Z  2022-12-04T20:11:31Z         amenity   \n1387  1991  2022-12-04T19:55:30Z  2022-12-04T20:13:56Z         amenity   \n\n      birth_year       gender         race disability disability_type  \\\n0           1971       female        white         no             NaN   \n1           2000  no-response  no-response         no             NaN   \n2           1982         male        white         no             NaN   \n3           1982         male        white         no             NaN   \n4           1993       female        white         no             NaN   \n...          ...          ...          ...        ...             ...   \n1383        1975         male        black         no             NaN   \n1384        1975       female        black         no             NaN   \n1385        1986         male        white         no             NaN   \n1386        1962         male       latino         no             NaN   \n1387        1998       female   indigenous        yes       cognitive   \n\n     mobility_aid mobility_aid_type            feature_type  \\\n0     no response               NaN               near-miss   \n1     no response               NaN               near-miss   \n2     no response               NaN                sidewalk   \n3     no response               NaN               near-miss   \n4     no response               NaN                 transit   \n...           ...               ...                     ...   \n1383  no response               NaN  safety/comfort concern   \n1384  no response               NaN  safety/comfort concern   \n1385  no response               NaN                sidewalk   \n1386  no response               NaN                sidewalk   \n1387           no               NaN                   other   \n\n                           feature_subtype         lon        lat  \\\n0                  vehicle-turning-head-on -123.434508  48.459019   \n1                    vehicle-turning-right -123.316472  48.433674   \n2                                      NaN -123.039638  49.288649   \n3                      vehicle-from-behind -123.036018  49.281230   \n4                                      NaN -123.193901  49.263620   \n...                                    ...         ...        ...   \n1383  vehicles - speed makes uncomfortable  -75.700354  45.497378   \n1384  vehicles - speed makes uncomfortable  -75.699729  45.501452   \n1385                                   NaN  -75.696871  45.496891   \n1386                                   NaN  -75.691793  45.504402   \n1387                                   NaN  -75.688054  45.504698   \n\n     gender_class  age age_class mobility_aid_type_class disability_type_class  \n0           Women   50     45-54             No response                  None  \n1     No Response   21     18-24             No response                  None  \n2             Men   39     35-44             No response                  None  \n3             Men   39     35-44             No response                  None  \n4           Women   28     25-34             No response                  None  \n...           ...  ...       ...                     ...                   ...  \n1383          Men   47     45-54             No response                  None  \n1384        Women   47     45-54             No response                  None  \n1385          Men   36     35-44             No response                  None  \n1386          Men   60     55-64             No response                  None  \n1387        Women   24     18-24                    None             Cognitive  \n\n[1388 rows x 20 columns]",
      "text/html": "<div>\n<style scoped>\n    .dataframe tbody tr th:only-of-type {\n        vertical-align: middle;\n    }\n\n    .dataframe tbody tr th {\n        vertical-align: top;\n    }\n\n    .dataframe thead th {\n        text-align: right;\n    }\n</style>\n<table border=\"1\" class=\"dataframe\">\n  <thead>\n    <tr style=\"text-align: right;\">\n      <th></th>\n      <th>id</th>\n      <th>date</th>\n      <th>date_reported</th>\n      <th>type</th>\n      <th>birth_year</th>\n      <th>gender</th>\n      <th>race</th>\n      <th>disability</th>\n      <th>disability_type</th>\n      <th>mobility_aid</th>\n      <th>mobility_aid_type</th>\n      <th>feature_type</th>\n      <th>feature_subtype</th>\n      <th>lon</th>\n      <th>lat</th>\n      <th>gender_class</th>\n      <th>age</th>\n      <th>age_class</th>\n      <th>mobility_aid_type_class</th>\n      <th>disability_type_class</th>\n    </tr>\n  </thead>\n  <tbody>\n    <tr>\n      <th>0</th>\n      <td>4</td>\n      <td>2021-05-27T22:34:00Z</td>\n      <td>2021-05-28T22:50:36Z</td>\n      <td>incident</td>\n      <td>1971</td>\n      <td>female</td>\n      <td>white</td>\n      <td>no</td>\n      <td>NaN</td>\n      <td>no response</td>\n      <td>NaN</td>\n      <td>near-miss</td>\n      <td>vehicle-turning-head-on</td>\n      <td>-123.434508</td>\n      <td>48.459019</td>\n      <td>Women</td>\n      <td>50</td>\n      <td>45-54</td>\n      <td>No response</td>\n      <td>None</td>\n    </tr>\n    <tr>\n      <th>1</th>\n      <td>7</td>\n      <td>2021-05-29T19:46:42Z</td>\n      <td>2021-05-29T20:01:09Z</td>\n      <td>incident</td>\n      <td>2000</td>\n      <td>no-response</td>\n      <td>no-response</td>\n      <td>no</td>\n      <td>NaN</td>\n      <td>no response</td>\n      <td>NaN</td>\n      <td>near-miss</td>\n      <td>vehicle-turning-right</td>\n      <td>-123.316472</td>\n      <td>48.433674</td>\n      <td>No Response</td>\n      <td>21</td>\n      <td>18-24</td>\n      <td>No response</td>\n      <td>None</td>\n    </tr>\n    <tr>\n      <th>2</th>\n      <td>8</td>\n      <td>2021-05-31T17:54:58Z</td>\n      <td>2021-05-31T18:00:16Z</td>\n      <td>amenity</td>\n      <td>1982</td>\n      <td>male</td>\n      <td>white</td>\n      <td>no</td>\n      <td>NaN</td>\n      <td>no response</td>\n      <td>NaN</td>\n      <td>sidewalk</td>\n      <td>NaN</td>\n      <td>-123.039638</td>\n      <td>49.288649</td>\n      <td>Men</td>\n      <td>39</td>\n      <td>35-44</td>\n      <td>No response</td>\n      <td>None</td>\n    </tr>\n    <tr>\n      <th>3</th>\n      <td>16</td>\n      <td>2021-06-04T17:31:46Z</td>\n      <td>2021-06-04T17:56:33Z</td>\n      <td>incident</td>\n      <td>1982</td>\n      <td>male</td>\n      <td>white</td>\n      <td>no</td>\n      <td>NaN</td>\n      <td>no response</td>\n      <td>NaN</td>\n      <td>near-miss</td>\n      <td>vehicle-from-behind</td>\n      <td>-123.036018</td>\n      <td>49.281230</td>\n      <td>Men</td>\n      <td>39</td>\n      <td>35-44</td>\n      <td>No response</td>\n      <td>None</td>\n    </tr>\n    <tr>\n      <th>4</th>\n      <td>17</td>\n      <td>2021-06-04T21:35:00Z</td>\n      <td>2021-06-04T21:41:11Z</td>\n      <td>amenity</td>\n      <td>1993</td>\n      <td>female</td>\n      <td>white</td>\n      <td>no</td>\n      <td>NaN</td>\n      <td>no response</td>\n      <td>NaN</td>\n      <td>transit</td>\n      <td>NaN</td>\n      <td>-123.193901</td>\n      <td>49.263620</td>\n      <td>Women</td>\n      <td>28</td>\n      <td>25-34</td>\n      <td>No response</td>\n      <td>None</td>\n    </tr>\n    <tr>\n      <th>...</th>\n      <td>...</td>\n      <td>...</td>\n      <td>...</td>\n      <td>...</td>\n      <td>...</td>\n      <td>...</td>\n      <td>...</td>\n      <td>...</td>\n      <td>...</td>\n      <td>...</td>\n      <td>...</td>\n      <td>...</td>\n      <td>...</td>\n      <td>...</td>\n      <td>...</td>\n      <td>...</td>\n      <td>...</td>\n      <td>...</td>\n      <td>...</td>\n      <td>...</td>\n    </tr>\n    <tr>\n      <th>1383</th>\n      <td>1987</td>\n      <td>2022-11-27T18:00:00Z</td>\n      <td>2022-12-04T20:03:10Z</td>\n      <td>hazard-concern</td>\n      <td>1975</td>\n      <td>male</td>\n      <td>black</td>\n      <td>no</td>\n      <td>NaN</td>\n      <td>no response</td>\n      <td>NaN</td>\n      <td>safety/comfort concern</td>\n      <td>vehicles - speed makes uncomfortable</td>\n      <td>-75.700354</td>\n      <td>45.497378</td>\n      <td>Men</td>\n      <td>47</td>\n      <td>45-54</td>\n      <td>No response</td>\n      <td>None</td>\n    </tr>\n    <tr>\n      <th>1384</th>\n      <td>1988</td>\n      <td>2022-12-04T19:55:30Z</td>\n      <td>2022-12-04T20:05:26Z</td>\n      <td>hazard-concern</td>\n      <td>1975</td>\n      <td>female</td>\n      <td>black</td>\n      <td>no</td>\n      <td>NaN</td>\n      <td>no response</td>\n      <td>NaN</td>\n      <td>safety/comfort concern</td>\n      <td>vehicles - speed makes uncomfortable</td>\n      <td>-75.699729</td>\n      <td>45.501452</td>\n      <td>Women</td>\n      <td>47</td>\n      <td>45-54</td>\n      <td>No response</td>\n      <td>None</td>\n    </tr>\n    <tr>\n      <th>1385</th>\n      <td>1989</td>\n      <td>2022-12-04T19:55:30Z</td>\n      <td>2022-12-04T20:08:21Z</td>\n      <td>amenity</td>\n      <td>1986</td>\n      <td>male</td>\n      <td>white</td>\n      <td>no</td>\n      <td>NaN</td>\n      <td>no response</td>\n      <td>NaN</td>\n      <td>sidewalk</td>\n      <td>NaN</td>\n      <td>-75.696871</td>\n      <td>45.496891</td>\n      <td>Men</td>\n      <td>36</td>\n      <td>35-44</td>\n      <td>No response</td>\n      <td>None</td>\n    </tr>\n    <tr>\n      <th>1386</th>\n      <td>1990</td>\n      <td>2022-12-04T19:55:30Z</td>\n      <td>2022-12-04T20:11:31Z</td>\n      <td>amenity</td>\n      <td>1962</td>\n      <td>male</td>\n      <td>latino</td>\n      <td>no</td>\n      <td>NaN</td>\n      <td>no response</td>\n      <td>NaN</td>\n      <td>sidewalk</td>\n      <td>NaN</td>\n      <td>-75.691793</td>\n      <td>45.504402</td>\n      <td>Men</td>\n      <td>60</td>\n      <td>55-64</td>\n      <td>No response</td>\n      <td>None</td>\n    </tr>\n    <tr>\n      <th>1387</th>\n      <td>1991</td>\n      <td>2022-12-04T19:55:30Z</td>\n      <td>2022-12-04T20:13:56Z</td>\n      <td>amenity</td>\n      <td>1998</td>\n      <td>female</td>\n      <td>indigenous</td>\n      <td>yes</td>\n      <td>cognitive</td>\n      <td>no</td>\n      <td>NaN</td>\n      <td>other</td>\n      <td>NaN</td>\n      <td>-75.688054</td>\n      <td>45.504698</td>\n      <td>Women</td>\n      <td>24</td>\n      <td>18-24</td>\n      <td>None</td>\n      <td>Cognitive</td>\n    </tr>\n  </tbody>\n</table>\n<p>1388 rows × 20 columns</p>\n</div>"
     },
     "execution_count": 66,
     "metadata": {},
     "output_type": "execute_result"
    }
   ],
   "source": [
    "data"
   ],
   "metadata": {
    "collapsed": false,
    "pycharm": {
     "name": "#%%\n"
    }
   }
  },
  {
   "cell_type": "code",
   "execution_count": null,
   "outputs": [],
   "source": [],
   "metadata": {
    "collapsed": false,
    "pycharm": {
     "name": "#%%\n"
    }
   }
  }
 ],
 "metadata": {
  "kernelspec": {
   "display_name": "Python 3",
   "language": "python",
   "name": "python3"
  },
  "language_info": {
   "codemirror_mode": {
    "name": "ipython",
    "version": 2
   },
   "file_extension": ".py",
   "mimetype": "text/x-python",
   "name": "python",
   "nbconvert_exporter": "python",
   "pygments_lexer": "ipython2",
   "version": "2.7.6"
  }
 },
 "nbformat": 4,
 "nbformat_minor": 0
}