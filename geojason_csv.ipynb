{
 "cells": [
  {
   "cell_type": "raw",
   "source": [],
   "metadata": {
    "collapsed": false,
    "pycharm": {
     "name": "",
     "is_executing": true
    }
   },
   "outputs": []
  },
  {
   "cell_type": "code",
   "execution_count": 126,
   "outputs": [
    {
     "data": {
      "text/plain": "1"
     },
     "execution_count": 126,
     "metadata": {},
     "output_type": "execute_result"
    }
   ],
   "source": [
    "import geopandas as gpd\n",
    "import pandas as pd\n",
    "from pandas import DataFrame,Series\n",
    "import os\n",
    "data_path = 'output'\n",
    "field_to_count='id' # Field that contains a value (not null) in each row.\n",
    "percentage = 'percentage (%)'\n",
    "count = 'count'\n",
    "time_data = ['hour','day']\n",
    "from pandas.api.types import CategoricalDtype\n",
    "cats = ['Sunday', 'Monday', 'Tuesday', 'Wednesday', 'Thursday', 'Friday', 'Saturday']\n",
    "cat_type = CategoricalDtype(categories=cats, ordered=True)\n"
   ],
   "metadata": {
    "collapsed": false,
    "pycharm": {
     "name": "#%%\n"
    }
   }
  },
  {
   "cell_type": "code",
   "execution_count": 39,
   "outputs": [
    {
     "data": {
      "text/plain": "        id                  date         date_reported            type  \\\n0        4  2021-05-27T22:34:00Z  2021-05-28T22:50:36Z        incident   \n1        7  2021-05-29T19:46:42Z  2021-05-29T20:01:09Z        incident   \n2        8  2021-05-31T17:54:58Z  2021-05-31T18:00:16Z         amenity   \n3       16  2021-06-04T17:31:46Z  2021-06-04T17:56:33Z        incident   \n4       17  2021-06-04T21:35:00Z  2021-06-04T21:41:11Z         amenity   \n...    ...                   ...                   ...             ...   \n1383  1987  2022-11-27T18:00:00Z  2022-12-04T20:03:10Z  hazard-concern   \n1384  1988  2022-12-04T19:55:30Z  2022-12-04T20:05:26Z  hazard-concern   \n1385  1989  2022-12-04T19:55:30Z  2022-12-04T20:08:21Z         amenity   \n1386  1990  2022-12-04T19:55:30Z  2022-12-04T20:11:31Z         amenity   \n1387  1991  2022-12-04T19:55:30Z  2022-12-04T20:13:56Z         amenity   \n\n      birth_year       gender         race disability disability_type  \\\n0           1971       female        white         no             NaN   \n1           2000  no-response  no-response         no             NaN   \n2           1982         male        white         no             NaN   \n3           1982         male        white         no             NaN   \n4           1993       female        white         no             NaN   \n...          ...          ...          ...        ...             ...   \n1383        1975         male        black         no             NaN   \n1384        1975       female        black         no             NaN   \n1385        1986         male        white         no             NaN   \n1386        1962         male       latino         no             NaN   \n1387        1998       female   indigenous        yes       cognitive   \n\n     mobility_aid mobility_aid_type            feature_type  \\\n0     no response               NaN               near-miss   \n1     no response               NaN               near-miss   \n2     no response               NaN                sidewalk   \n3     no response               NaN               near-miss   \n4     no response               NaN                 transit   \n...           ...               ...                     ...   \n1383  no response               NaN  safety/comfort concern   \n1384  no response               NaN  safety/comfort concern   \n1385  no response               NaN                sidewalk   \n1386  no response               NaN                sidewalk   \n1387           no               NaN                   other   \n\n                           feature_subtype         lon        lat  \\\n0                  vehicle-turning-head-on -123.434508  48.459019   \n1                    vehicle-turning-right -123.316472  48.433674   \n2                                      NaN -123.039638  49.288649   \n3                      vehicle-from-behind -123.036018  49.281230   \n4                                      NaN -123.193901  49.263620   \n...                                    ...         ...        ...   \n1383  vehicles - speed makes uncomfortable  -75.700354  45.497378   \n1384  vehicles - speed makes uncomfortable  -75.699729  45.501452   \n1385                                   NaN  -75.696871  45.496891   \n1386                                   NaN  -75.691793  45.504402   \n1387                                   NaN  -75.688054  45.504698   \n\n     gender_class  age age_class mobility_aid_type_class disability_type_class  \n0           Women   50     45-54             No response                  None  \n1     No Response   21     18-24             No response                  None  \n2             Men   39     35-44             No response                  None  \n3             Men   39     35-44             No response                  None  \n4           Women   28     25-34             No response                  None  \n...           ...  ...       ...                     ...                   ...  \n1383          Men   47     45-54             No response                  None  \n1384        Women   47     45-54             No response                  None  \n1385          Men   36     35-44             No response                  None  \n1386          Men   60     55-64             No response                  None  \n1387        Women   24     18-24                    None             Cognitive  \n\n[1388 rows x 20 columns]",
      "text/html": "<div>\n<style scoped>\n    .dataframe tbody tr th:only-of-type {\n        vertical-align: middle;\n    }\n\n    .dataframe tbody tr th {\n        vertical-align: top;\n    }\n\n    .dataframe thead th {\n        text-align: right;\n    }\n</style>\n<table border=\"1\" class=\"dataframe\">\n  <thead>\n    <tr style=\"text-align: right;\">\n      <th></th>\n      <th>id</th>\n      <th>date</th>\n      <th>date_reported</th>\n      <th>type</th>\n      <th>birth_year</th>\n      <th>gender</th>\n      <th>race</th>\n      <th>disability</th>\n      <th>disability_type</th>\n      <th>mobility_aid</th>\n      <th>mobility_aid_type</th>\n      <th>feature_type</th>\n      <th>feature_subtype</th>\n      <th>lon</th>\n      <th>lat</th>\n      <th>gender_class</th>\n      <th>age</th>\n      <th>age_class</th>\n      <th>mobility_aid_type_class</th>\n      <th>disability_type_class</th>\n    </tr>\n  </thead>\n  <tbody>\n    <tr>\n      <th>0</th>\n      <td>4</td>\n      <td>2021-05-27T22:34:00Z</td>\n      <td>2021-05-28T22:50:36Z</td>\n      <td>incident</td>\n      <td>1971</td>\n      <td>female</td>\n      <td>white</td>\n      <td>no</td>\n      <td>NaN</td>\n      <td>no response</td>\n      <td>NaN</td>\n      <td>near-miss</td>\n      <td>vehicle-turning-head-on</td>\n      <td>-123.434508</td>\n      <td>48.459019</td>\n      <td>Women</td>\n      <td>50</td>\n      <td>45-54</td>\n      <td>No response</td>\n      <td>None</td>\n    </tr>\n    <tr>\n      <th>1</th>\n      <td>7</td>\n      <td>2021-05-29T19:46:42Z</td>\n      <td>2021-05-29T20:01:09Z</td>\n      <td>incident</td>\n      <td>2000</td>\n      <td>no-response</td>\n      <td>no-response</td>\n      <td>no</td>\n      <td>NaN</td>\n      <td>no response</td>\n      <td>NaN</td>\n      <td>near-miss</td>\n      <td>vehicle-turning-right</td>\n      <td>-123.316472</td>\n      <td>48.433674</td>\n      <td>No Response</td>\n      <td>21</td>\n      <td>18-24</td>\n      <td>No response</td>\n      <td>None</td>\n    </tr>\n    <tr>\n      <th>2</th>\n      <td>8</td>\n      <td>2021-05-31T17:54:58Z</td>\n      <td>2021-05-31T18:00:16Z</td>\n      <td>amenity</td>\n      <td>1982</td>\n      <td>male</td>\n      <td>white</td>\n      <td>no</td>\n      <td>NaN</td>\n      <td>no response</td>\n      <td>NaN</td>\n      <td>sidewalk</td>\n      <td>NaN</td>\n      <td>-123.039638</td>\n      <td>49.288649</td>\n      <td>Men</td>\n      <td>39</td>\n      <td>35-44</td>\n      <td>No response</td>\n      <td>None</td>\n    </tr>\n    <tr>\n      <th>3</th>\n      <td>16</td>\n      <td>2021-06-04T17:31:46Z</td>\n      <td>2021-06-04T17:56:33Z</td>\n      <td>incident</td>\n      <td>1982</td>\n      <td>male</td>\n      <td>white</td>\n      <td>no</td>\n      <td>NaN</td>\n      <td>no response</td>\n      <td>NaN</td>\n      <td>near-miss</td>\n      <td>vehicle-from-behind</td>\n      <td>-123.036018</td>\n      <td>49.281230</td>\n      <td>Men</td>\n      <td>39</td>\n      <td>35-44</td>\n      <td>No response</td>\n      <td>None</td>\n    </tr>\n    <tr>\n      <th>4</th>\n      <td>17</td>\n      <td>2021-06-04T21:35:00Z</td>\n      <td>2021-06-04T21:41:11Z</td>\n      <td>amenity</td>\n      <td>1993</td>\n      <td>female</td>\n      <td>white</td>\n      <td>no</td>\n      <td>NaN</td>\n      <td>no response</td>\n      <td>NaN</td>\n      <td>transit</td>\n      <td>NaN</td>\n      <td>-123.193901</td>\n      <td>49.263620</td>\n      <td>Women</td>\n      <td>28</td>\n      <td>25-34</td>\n      <td>No response</td>\n      <td>None</td>\n    </tr>\n    <tr>\n      <th>...</th>\n      <td>...</td>\n      <td>...</td>\n      <td>...</td>\n      <td>...</td>\n      <td>...</td>\n      <td>...</td>\n      <td>...</td>\n      <td>...</td>\n      <td>...</td>\n      <td>...</td>\n      <td>...</td>\n      <td>...</td>\n      <td>...</td>\n      <td>...</td>\n      <td>...</td>\n      <td>...</td>\n      <td>...</td>\n      <td>...</td>\n      <td>...</td>\n      <td>...</td>\n    </tr>\n    <tr>\n      <th>1383</th>\n      <td>1987</td>\n      <td>2022-11-27T18:00:00Z</td>\n      <td>2022-12-04T20:03:10Z</td>\n      <td>hazard-concern</td>\n      <td>1975</td>\n      <td>male</td>\n      <td>black</td>\n      <td>no</td>\n      <td>NaN</td>\n      <td>no response</td>\n      <td>NaN</td>\n      <td>safety/comfort concern</td>\n      <td>vehicles - speed makes uncomfortable</td>\n      <td>-75.700354</td>\n      <td>45.497378</td>\n      <td>Men</td>\n      <td>47</td>\n      <td>45-54</td>\n      <td>No response</td>\n      <td>None</td>\n    </tr>\n    <tr>\n      <th>1384</th>\n      <td>1988</td>\n      <td>2022-12-04T19:55:30Z</td>\n      <td>2022-12-04T20:05:26Z</td>\n      <td>hazard-concern</td>\n      <td>1975</td>\n      <td>female</td>\n      <td>black</td>\n      <td>no</td>\n      <td>NaN</td>\n      <td>no response</td>\n      <td>NaN</td>\n      <td>safety/comfort concern</td>\n      <td>vehicles - speed makes uncomfortable</td>\n      <td>-75.699729</td>\n      <td>45.501452</td>\n      <td>Women</td>\n      <td>47</td>\n      <td>45-54</td>\n      <td>No response</td>\n      <td>None</td>\n    </tr>\n    <tr>\n      <th>1385</th>\n      <td>1989</td>\n      <td>2022-12-04T19:55:30Z</td>\n      <td>2022-12-04T20:08:21Z</td>\n      <td>amenity</td>\n      <td>1986</td>\n      <td>male</td>\n      <td>white</td>\n      <td>no</td>\n      <td>NaN</td>\n      <td>no response</td>\n      <td>NaN</td>\n      <td>sidewalk</td>\n      <td>NaN</td>\n      <td>-75.696871</td>\n      <td>45.496891</td>\n      <td>Men</td>\n      <td>36</td>\n      <td>35-44</td>\n      <td>No response</td>\n      <td>None</td>\n    </tr>\n    <tr>\n      <th>1386</th>\n      <td>1990</td>\n      <td>2022-12-04T19:55:30Z</td>\n      <td>2022-12-04T20:11:31Z</td>\n      <td>amenity</td>\n      <td>1962</td>\n      <td>male</td>\n      <td>latino</td>\n      <td>no</td>\n      <td>NaN</td>\n      <td>no response</td>\n      <td>NaN</td>\n      <td>sidewalk</td>\n      <td>NaN</td>\n      <td>-75.691793</td>\n      <td>45.504402</td>\n      <td>Men</td>\n      <td>60</td>\n      <td>55-64</td>\n      <td>No response</td>\n      <td>None</td>\n    </tr>\n    <tr>\n      <th>1387</th>\n      <td>1991</td>\n      <td>2022-12-04T19:55:30Z</td>\n      <td>2022-12-04T20:13:56Z</td>\n      <td>amenity</td>\n      <td>1998</td>\n      <td>female</td>\n      <td>indigenous</td>\n      <td>yes</td>\n      <td>cognitive</td>\n      <td>no</td>\n      <td>NaN</td>\n      <td>other</td>\n      <td>NaN</td>\n      <td>-75.688054</td>\n      <td>45.504698</td>\n      <td>Women</td>\n      <td>24</td>\n      <td>18-24</td>\n      <td>None</td>\n      <td>Cognitive</td>\n    </tr>\n  </tbody>\n</table>\n<p>1388 rows × 20 columns</p>\n</div>"
     },
     "execution_count": 39,
     "metadata": {},
     "output_type": "execute_result"
    }
   ],
   "source": [
    "path = \"wrm_demographics_2022-12-05.csv\"\n",
    "ir_fields =['description','geometry',]\n",
    "data_0 = pd.read_csv(path)\n",
    "data = data_0.drop(ir_fields,axis=1)\n",
    "data"
   ],
   "metadata": {
    "collapsed": false,
    "pycharm": {
     "name": "#%%\n"
    }
   }
  },
  {
   "cell_type": "code",
   "execution_count": 47,
   "outputs": [
    {
     "data": {
      "text/plain": "Index(['id', 'date', 'date_reported', 'type', 'birth_year', 'gender', 'race',\n       'disability', 'disability_type', 'mobility_aid', 'mobility_aid_type',\n       'feature_type', 'feature_subtype', 'lon', 'lat', 'gender_class', 'age',\n       'age_class', 'mobility_aid_type_class', 'disability_type_class', 'hour',\n       'day'],\n      dtype='object')"
     },
     "execution_count": 47,
     "metadata": {},
     "output_type": "execute_result"
    }
   ],
   "source": [
    "data.columns"
   ],
   "metadata": {
    "collapsed": false,
    "pycharm": {
     "name": "#%%\n"
    }
   }
  },
  {
   "cell_type": "code",
   "execution_count": 56,
   "outputs": [
    {
     "name": "stdout",
     "output_type": "stream",
     "text": [
      "                      count\n",
      "date                       \n",
      "2022-03-01T16:06:54Z     19\n",
      "2022-11-02T16:36:45Z     11\n",
      "2022-11-09T20:02:47Z     10\n",
      "2022-02-01T19:05:13Z      8\n",
      "2022-05-11T17:08:24Z      8\n",
      "...                     ...\n",
      "2022-02-01T16:06:00Z      1\n",
      "2022-02-01T16:09:17Z      1\n",
      "2022-02-01T16:49:59Z      1\n",
      "2022-02-01T18:17:17Z      1\n",
      "2022-04-15T17:50:00Z      1\n",
      "\n",
      "[1084 rows x 1 columns]\n",
      "\n",
      "\n",
      "                      count\n",
      "date_reported              \n",
      "2022-05-11T18:17:20Z      3\n",
      "2021-12-08T16:20:36Z      3\n",
      "2022-08-21T19:14:12Z      2\n",
      "2022-01-10T03:12:37Z      2\n",
      "2022-08-11T03:27:50Z      1\n",
      "...                     ...\n",
      "2022-02-24T17:18:05Z      1\n",
      "2022-02-24T17:08:02Z      1\n",
      "2022-02-24T16:56:41Z      1\n",
      "2022-02-24T16:50:43Z      1\n",
      "2022-12-04T20:13:56Z      1\n",
      "\n",
      "[1382 rows x 1 columns]\n",
      "\n",
      "\n",
      "                count\n",
      "type                 \n",
      "hazard-concern    737\n",
      "amenity           475\n",
      "incident          176\n",
      "\n",
      "\n",
      "            count\n",
      "birth_year       \n",
      "1986          102\n",
      "1997           51\n",
      "1985           50\n",
      "1971           47\n",
      "1982           46\n",
      "...           ...\n",
      "1942            1\n",
      "1936            1\n",
      "2007            1\n",
      "2009            1\n",
      "1937            1\n",
      "\n",
      "[76 rows x 1 columns]\n",
      "\n",
      "\n",
      "                                           count\n",
      "gender                                          \n",
      "female                                       670\n",
      "male                                         522\n",
      "no response                                  166\n",
      "other                                         11\n",
      "other - Transmasculine                         4\n",
      "other - Non binary                             3\n",
      "other - Non-binary                             2\n",
      "other - Non binaire                            1\n",
      "other - agender                                1\n",
      "other - Parents et enfants de tous genres      1\n",
      "other - Nb                                     1\n",
      "other - Non Binary                             1\n",
      "other - Male                                   1\n",
      "no-response                                    1\n",
      "no response - Féminin                          1\n",
      "male - Test                                    1\n",
      "other - non-binary                             1\n",
      "\n",
      "\n",
      "                                          count\n",
      "race                                           \n",
      "white                                      1009\n",
      "no response                                 233\n",
      "other                                        18\n",
      "indigenous                                   16\n",
      "southeast asian                              13\n",
      "south asisan                                 10\n",
      "middle eastern                                9\n",
      "indigenous,white                              9\n",
      "east asian                                    8\n",
      "black                                         7\n",
      "latino                                        7\n",
      "latino,white                                  6\n",
      "south asisan,white                            6\n",
      "white,indigenous                              5\n",
      "white,south asisan                            4\n",
      "indigenous,latino                             3\n",
      "white,latino                                  2\n",
      "middle eastern,white                          2\n",
      "southeast asian,east asian                    2\n",
      "white,middle eastern                          1\n",
      "white,black                                   1\n",
      "white,other                                   1\n",
      "southeast asian,white                         1\n",
      "southeast asian,south asisan                  1\n",
      "other, Parent                                 1\n",
      "other,Brad                                    1\n",
      "other, Worker                                 1\n",
      "other, Test                                   1\n",
      "other, Pas d'origine précise                  1\n",
      "black,east asian,indigenous,south asisan      1\n",
      "other, Dutch canadian                         1\n",
      "other, Brad sweezey                           1\n",
      "no-response                                   1\n",
      "latino,middle eastern,south asisan            1\n",
      "indigenous,east asian                         1\n",
      "east asian,southeast asian                    1\n",
      "black,white,other, Disabled senior            1\n",
      "white,southeast asian                         1\n",
      "\n",
      "\n",
      "             count\n",
      "disability        \n",
      "no            1121\n",
      "yes            150\n",
      "no response    117\n",
      "\n",
      "\n",
      "                                           count\n",
      "disability_type                                 \n",
      "mobility                                      81\n",
      "cognitive                                     31\n",
      "no response                                    8\n",
      "other                                          7\n",
      "other - Autism                                 5\n",
      "other - Fractures                              4\n",
      "hearing                                        3\n",
      "visual                                         3\n",
      "other - Mental health/ digestive               2\n",
      "other - Misophia                               2\n",
      "other - Cronic Fibromyalgia/mygraine etc.      1\n",
      "other - Heart                                  1\n",
      "other - Spinal fractures                       1\n",
      "other - mobility and supplemental oxygen       1\n",
      "\n",
      "\n",
      "              count\n",
      "mobility_aid       \n",
      "no response    1241\n",
      "yes              86\n",
      "no               61\n",
      "\n",
      "\n",
      "                                                  count\n",
      "mobility_aid_type                                      \n",
      "cane                                                 26\n",
      "powered                                              21\n",
      "walker                                               18\n",
      "wheel chair                                          13\n",
      "other                                                 3\n",
      "crutches                                              1\n",
      "other - Braces                                        1\n",
      "other - Sports brace for my torn ACL & Meniscus.      1\n",
      "other - Walking poles/mobility scooter                1\n",
      "service dog                                           1\n",
      "\n",
      "\n",
      "                                       count\n",
      "feature_type                                \n",
      "crossing issue                           271\n",
      "safety/comfort concern                   230\n",
      "sidewalk                                 202\n",
      "side walk infrastructure issue           202\n",
      "near miss                                129\n",
      "marked crosswalk                          99\n",
      "other                                     41\n",
      "hit by                                    36\n",
      "weather related or seasonal               34\n",
      "traffic or pedestrian signal              22\n",
      "connections (e.g. cut-through needed)     21\n",
      "curb cut                                  19\n",
      "benches                                   16\n",
      "lighting or additional lighting           13\n",
      "washroom                                  12\n",
      "wayfinding signs                          11\n",
      "fall                                       7\n",
      "shade in summer                            7\n",
      "near-miss                                  4\n",
      "stop sign                                  4\n",
      "access to transit stop                     4\n",
      "audible                                    2\n",
      "transit                                    1\n",
      "water fountain                             1\n",
      "\n",
      "\n",
      "                                                    count\n",
      "feature_subtype                                          \n",
      "other                                                 134\n",
      "vehicles - speed makes uncomfortable                   98\n",
      "drivers don't stop or yield to pedestrians             95\n",
      "vehicle turning head-on                                61\n",
      "obstruction - uneven sidewalk (eg. roots, holes...     57\n",
      "crosswalk needed                                       46\n",
      "vehicle turning left                                   39\n",
      "other users - bicycle                                  36\n",
      "vehicle turning right                                  31\n",
      "signal - pedestrian interval too short                 28\n",
      "poor visibility of pedestrians                         26\n",
      "too narrrow                                            24\n",
      "obstruction - inadequate or lack of safe detour...     19\n",
      "snow                                                   18\n",
      "obstruction - pole (hydro, telephone)                  16\n",
      "vehicles - number makes uncomfortable                  16\n",
      "conflict with vehicles turning right                   16\n",
      "obstruction - vegetaion that narrows pathway           14\n",
      "vehicle from behind                                    12\n",
      "signal - wait time to cross too long                   12\n",
      "missing curb cut                                       11\n",
      "personal safety - inaequate lighting                   10\n",
      "conflict with vehicles turning left                     8\n",
      "cyclist                                                 8\n",
      "uncomfortable service (for wheelchairs, etc.)           8\n",
      "vehicle turning right on red                            6\n",
      "ice                                                     6\n",
      "obstruction - parked vehicles or delivery vans          6\n",
      "slope issues (eg. driveways)                            5\n",
      "other users - dogs                                      5\n",
      "other users - mobility scooters/electric wheelc...      4\n",
      "crosswalk markings no longer visible                    4\n",
      "signal - button difficult to access                     4\n",
      "leaves                                                  3\n",
      "animal                                                  3\n",
      "slipped                                                 3\n",
      "personal safety - harassement or unwanted atten...      3\n",
      "tripped                                                 2\n",
      "signal - needs an audible                               2\n",
      "puddles, flooding, splash zone                          2\n",
      "personal safety - isolated                              2\n",
      "conflict with vehicles turning righton red              2\n",
      "obstruction - garbage or recycling bins                 1\n",
      "personal safety - gathering of unknown people           1\n",
      "obstruction - sign blocking path                        1\n",
      "vehicle-from-behind                                     1\n",
      "vehicle-turning-head-on                                 1\n",
      "vehicle-turning-left                                    1\n",
      "vehicle-turning-right                                   1\n",
      "obstruction - bus shelter                               1\n",
      "\n",
      "\n",
      "             count\n",
      "lon               \n",
      "-82.404616       4\n",
      "-123.344677      3\n",
      "-106.670091      2\n",
      "-123.361187      2\n",
      "-106.645597      2\n",
      "...            ...\n",
      "-123.358347      1\n",
      "-123.358611      1\n",
      "-123.358743      1\n",
      "-123.358818      1\n",
      " 174.777201      1\n",
      "\n",
      "[1380 rows x 1 columns]\n",
      "\n",
      "\n",
      "           count\n",
      "lat             \n",
      "34.854722      4\n",
      "48.440242      3\n",
      "52.126221      2\n",
      "52.122265      2\n",
      "48.432648      2\n",
      "...          ...\n",
      "46.816737      1\n",
      "46.815675      1\n",
      "46.815304      1\n",
      "46.814810      1\n",
      "60.729567      1\n",
      "\n",
      "[1379 rows x 1 columns]\n",
      "\n",
      "\n",
      "              count\n",
      "gender_class       \n",
      "Women           670\n",
      "Men             522\n",
      "No Response     174\n",
      "Non-Binary       22\n",
      "\n",
      "\n",
      "     count\n",
      "age       \n",
      "36     106\n",
      "37      58\n",
      "25      56\n",
      "40      49\n",
      "42      47\n",
      "..     ...\n",
      "91       1\n",
      "94       1\n",
      "97       1\n",
      "99       1\n",
      "15       1\n",
      "\n",
      "[79 rows x 1 columns]\n",
      "\n",
      "\n",
      "              count\n",
      "age_class          \n",
      "35-44           409\n",
      "25-34           282\n",
      "45-54           200\n",
      "55-64           159\n",
      "18-24           123\n",
      "65-74           107\n",
      "75+              61\n",
      "12 and under     34\n",
      "13-17            13\n",
      "\n",
      "\n",
      "                         count\n",
      "mobility_aid_type_class       \n",
      "No response               1241\n",
      "None                        61\n",
      "Cane/Crutches/Walker        45\n",
      "Wheel chair                 34\n",
      "Other                        7\n",
      "\n",
      "\n",
      "                       count\n",
      "disability_type_class       \n",
      "None                    1121\n",
      "No Response              125\n",
      "Mobility                  81\n",
      "Cognitive                 31\n",
      "Other                     24\n",
      "Hearing                    3\n",
      "Visual                     3\n",
      "\n",
      "\n"
     ]
    }
   ],
   "source": [
    "for i in range(1,len(data.columns)):\n",
    "    print(DataFrame(data.groupby(data.columns[i]).count()['id'].rename('count').sort_values(ascending=False)))\n",
    "    print('\\n')"
   ],
   "metadata": {
    "collapsed": false,
    "pycharm": {
     "name": "#%%\n"
    }
   }
  },
  {
   "cell_type": "markdown",
   "source": [
    "### Univariate variables"
   ],
   "metadata": {
    "collapsed": false,
    "pycharm": {
     "name": "#%% md\n"
    }
   }
  },
  {
   "cell_type": "code",
   "execution_count": 110,
   "outputs": [],
   "source": [
    "univariate_columns =['date','type','gender_class','race','disability','disability_type','mobility_aid','feature_type','feature_subtype','age_class', 'mobility_aid_type_class', 'disability_type_class']"
   ],
   "metadata": {
    "collapsed": false,
    "pycharm": {
     "name": "#%%\n"
    }
   }
  },
  {
   "cell_type": "code",
   "execution_count": 112,
   "outputs": [
    {
     "name": "stdout",
     "output_type": "stream",
     "text": [
      "                      count\n",
      "date                       \n",
      "2022-03-01T16:06:54Z     19\n",
      "2022-11-02T16:36:45Z     11\n",
      "2022-11-09T20:02:47Z     10\n",
      "2022-02-01T19:05:13Z      8\n",
      "2022-05-11T17:08:24Z      8\n",
      "...                     ...\n",
      "2022-02-01T16:06:00Z      1\n",
      "2022-02-01T16:09:17Z      1\n",
      "2022-02-01T16:49:59Z      1\n",
      "2022-02-01T18:17:17Z      1\n",
      "2022-04-15T17:50:00Z      1\n",
      "\n",
      "[1084 rows x 1 columns]\n",
      "\n",
      "\n",
      "                count\n",
      "type                 \n",
      "hazard-concern    737\n",
      "amenity           475\n",
      "incident          176\n",
      "\n",
      "\n",
      "              count\n",
      "gender_class       \n",
      "Women           670\n",
      "Men             522\n",
      "No Response     174\n",
      "Non-Binary       22\n",
      "\n",
      "\n",
      "                                          count\n",
      "race                                           \n",
      "white                                      1009\n",
      "no response                                 233\n",
      "other                                        18\n",
      "indigenous                                   16\n",
      "southeast asian                              13\n",
      "south asisan                                 10\n",
      "middle eastern                                9\n",
      "indigenous,white                              9\n",
      "east asian                                    8\n",
      "black                                         7\n",
      "latino                                        7\n",
      "latino,white                                  6\n",
      "south asisan,white                            6\n",
      "white,indigenous                              5\n",
      "white,south asisan                            4\n",
      "indigenous,latino                             3\n",
      "white,latino                                  2\n",
      "middle eastern,white                          2\n",
      "southeast asian,east asian                    2\n",
      "white,middle eastern                          1\n",
      "white,black                                   1\n",
      "white,other                                   1\n",
      "southeast asian,white                         1\n",
      "southeast asian,south asisan                  1\n",
      "other, Parent                                 1\n",
      "other,Brad                                    1\n",
      "other, Worker                                 1\n",
      "other, Test                                   1\n",
      "other, Pas d'origine précise                  1\n",
      "black,east asian,indigenous,south asisan      1\n",
      "other, Dutch canadian                         1\n",
      "other, Brad sweezey                           1\n",
      "no-response                                   1\n",
      "latino,middle eastern,south asisan            1\n",
      "indigenous,east asian                         1\n",
      "east asian,southeast asian                    1\n",
      "black,white,other, Disabled senior            1\n",
      "white,southeast asian                         1\n",
      "\n",
      "\n",
      "             count\n",
      "disability        \n",
      "no            1121\n",
      "yes            150\n",
      "no response    117\n",
      "\n",
      "\n",
      "                                           count\n",
      "disability_type                                 \n",
      "mobility                                      81\n",
      "cognitive                                     31\n",
      "no response                                    8\n",
      "other                                          7\n",
      "other - Autism                                 5\n",
      "other - Fractures                              4\n",
      "hearing                                        3\n",
      "visual                                         3\n",
      "other - Mental health/ digestive               2\n",
      "other - Misophia                               2\n",
      "other - Cronic Fibromyalgia/mygraine etc.      1\n",
      "other - Heart                                  1\n",
      "other - Spinal fractures                       1\n",
      "other - mobility and supplemental oxygen       1\n",
      "\n",
      "\n",
      "              count\n",
      "mobility_aid       \n",
      "no response    1241\n",
      "yes              86\n",
      "no               61\n",
      "\n",
      "\n",
      "                                       count\n",
      "feature_type                                \n",
      "crossing issue                           271\n",
      "safety/comfort concern                   230\n",
      "sidewalk                                 202\n",
      "side walk infrastructure issue           202\n",
      "near miss                                129\n",
      "marked crosswalk                          99\n",
      "other                                     41\n",
      "hit by                                    36\n",
      "weather related or seasonal               34\n",
      "traffic or pedestrian signal              22\n",
      "connections (e.g. cut-through needed)     21\n",
      "curb cut                                  19\n",
      "benches                                   16\n",
      "lighting or additional lighting           13\n",
      "washroom                                  12\n",
      "wayfinding signs                          11\n",
      "fall                                       7\n",
      "shade in summer                            7\n",
      "near-miss                                  4\n",
      "stop sign                                  4\n",
      "access to transit stop                     4\n",
      "audible                                    2\n",
      "transit                                    1\n",
      "water fountain                             1\n",
      "\n",
      "\n",
      "                                                    count\n",
      "feature_subtype                                          \n",
      "other                                                 134\n",
      "vehicles - speed makes uncomfortable                   98\n",
      "drivers don't stop or yield to pedestrians             95\n",
      "vehicle turning head-on                                61\n",
      "obstruction - uneven sidewalk (eg. roots, holes...     57\n",
      "crosswalk needed                                       46\n",
      "vehicle turning left                                   39\n",
      "other users - bicycle                                  36\n",
      "vehicle turning right                                  31\n",
      "signal - pedestrian interval too short                 28\n",
      "poor visibility of pedestrians                         26\n",
      "too narrrow                                            24\n",
      "obstruction - inadequate or lack of safe detour...     19\n",
      "snow                                                   18\n",
      "obstruction - pole (hydro, telephone)                  16\n",
      "vehicles - number makes uncomfortable                  16\n",
      "conflict with vehicles turning right                   16\n",
      "obstruction - vegetaion that narrows pathway           14\n",
      "vehicle from behind                                    12\n",
      "signal - wait time to cross too long                   12\n",
      "missing curb cut                                       11\n",
      "personal safety - inaequate lighting                   10\n",
      "conflict with vehicles turning left                     8\n",
      "cyclist                                                 8\n",
      "uncomfortable service (for wheelchairs, etc.)           8\n",
      "vehicle turning right on red                            6\n",
      "ice                                                     6\n",
      "obstruction - parked vehicles or delivery vans          6\n",
      "slope issues (eg. driveways)                            5\n",
      "other users - dogs                                      5\n",
      "other users - mobility scooters/electric wheelc...      4\n",
      "crosswalk markings no longer visible                    4\n",
      "signal - button difficult to access                     4\n",
      "leaves                                                  3\n",
      "animal                                                  3\n",
      "slipped                                                 3\n",
      "personal safety - harassement or unwanted atten...      3\n",
      "tripped                                                 2\n",
      "signal - needs an audible                               2\n",
      "puddles, flooding, splash zone                          2\n",
      "personal safety - isolated                              2\n",
      "conflict with vehicles turning righton red              2\n",
      "obstruction - garbage or recycling bins                 1\n",
      "personal safety - gathering of unknown people           1\n",
      "obstruction - sign blocking path                        1\n",
      "vehicle-from-behind                                     1\n",
      "vehicle-turning-head-on                                 1\n",
      "vehicle-turning-left                                    1\n",
      "vehicle-turning-right                                   1\n",
      "obstruction - bus shelter                               1\n",
      "\n",
      "\n",
      "              count\n",
      "age_class          \n",
      "35-44           409\n",
      "25-34           282\n",
      "45-54           200\n",
      "55-64           159\n",
      "18-24           123\n",
      "65-74           107\n",
      "75+              61\n",
      "12 and under     34\n",
      "13-17            13\n",
      "\n",
      "\n",
      "                         count\n",
      "mobility_aid_type_class       \n",
      "No response               1241\n",
      "None                        61\n",
      "Cane/Crutches/Walker        45\n",
      "Wheel chair                 34\n",
      "Other                        7\n",
      "\n",
      "\n",
      "                       count\n",
      "disability_type_class       \n",
      "None                    1121\n",
      "No Response              125\n",
      "Mobility                  81\n",
      "Cognitive                 31\n",
      "Other                     24\n",
      "Hearing                    3\n",
      "Visual                     3\n",
      "\n",
      "\n"
     ]
    }
   ],
   "source": [
    "for i in univariate_columns:\n",
    "    print(DataFrame(data.groupby(data[i]).count()['id'].rename('count').sort_values(ascending=False)))\n",
    "    print('\\n')"
   ],
   "metadata": {
    "collapsed": false,
    "pycharm": {
     "name": "#%%\n"
    }
   }
  },
  {
   "cell_type": "markdown",
   "source": [
    "#### Time (time and weekend VS week)"
   ],
   "metadata": {
    "collapsed": false,
    "pycharm": {
     "name": "#%% md\n",
     "is_executing": true
    }
   },
   "outputs": []
  },
  {
   "cell_type": "code",
   "execution_count": 131,
   "outputs": [
    {
     "ename": "NameError",
     "evalue": "name 'cat_type' is not defined",
     "output_type": "error",
     "traceback": [
      "\u001B[1;31m---------------------------------------------------------------------------\u001B[0m",
      "\u001B[1;31mNameError\u001B[0m                                 Traceback (most recent call last)",
      "Cell \u001B[1;32mIn [131], line 13\u001B[0m\n\u001B[0;32m     11\u001B[0m     \u001B[38;5;66;03m#  sort by weekday\u001B[39;00m\n\u001B[0;32m     12\u001B[0m     new_tables[hour] \u001B[38;5;241m=\u001B[39m var_groupby(groupby_field\u001B[38;5;241m=\u001B[39mhour)\n\u001B[1;32m---> 13\u001B[0m     new_tables[day][day]  \u001B[38;5;241m=\u001B[39m  var_groupby(groupby_field\u001B[38;5;241m=\u001B[39mday)\u001B[38;5;241m.\u001B[39mastype(\u001B[43mcat_type\u001B[49m)\n\u001B[0;32m     14\u001B[0m \u001B[38;5;28;01melse\u001B[39;00m:\n\u001B[0;32m     15\u001B[0m     new_tables[var] \u001B[38;5;241m=\u001B[39m var_groupby(groupby_field\u001B[38;5;241m=\u001B[39mvar)\u001B[38;5;241m.\u001B[39msort_values(by\u001B[38;5;241m=\u001B[39mpercentage,ascending\u001B[38;5;241m=\u001B[39m\u001B[38;5;28;01mFalse\u001B[39;00m)\n",
      "\u001B[1;31mNameError\u001B[0m: name 'cat_type' is not defined"
     ]
    }
   ],
   "source": [
    "def var_groupby(groupby_field:str)-> DataFrame:\n",
    "    \"\"\"\n",
    "    The method counts the number of results (and percentage) in the same category.\n",
    "    :param groupby_field\n",
    "    :return:\n",
    "    \"\"\"\n",
    "    groupby_data = DataFrame(data.groupby(data[groupby_field]).count()[field_to_count].rename(count))\n",
    "    groupby_data [percentage] = round(groupby_data[count]/groupby_data[count].sum()*100,1)\n",
    "    return groupby_data"
   ],
   "metadata": {
    "collapsed": false,
    "pycharm": {
     "name": "#%%\n"
    }
   }
  },
  {
   "cell_type": "code",
   "execution_count": 120,
   "outputs": [],
   "source": [
    "\n",
    "new_tables = {}\n",
    "\n",
    "for var in univariate_columns:\n",
    "    # calculate group by and percentage\n",
    "\n",
    "    if var=='date':\n",
    "        # specific analysis\n",
    "        date = pd.to_datetime((data['date'].str.replace('Z','').str.replace('T',' ')))\n",
    "        hour,day  = 'hour','day'\n",
    "        data[hour],data[day] = date.dt.hour, date.dt.day_name()\n",
    "        #  sort by weekday\n",
    "        new_tables[hour] = var_groupby(groupby_field=hour)\n",
    "        new_tables[day][day]  =  var_groupby(groupby_field=day).astype(cat_type)\n",
    "    else:\n",
    "        new_tables[var] = var_groupby(groupby_field=var).sort_values(by=percentage,ascending=False)\n",
    "\n",
    "# save\n",
    "with pd.ExcelWriter(f\"{data_path}/univariate.xlsx\") as writer:\n",
    "    [item[1].to_excel(writer, sheet_name=item[0]) for item in new_tables.items()]"
   ],
   "metadata": {
    "collapsed": false,
    "pycharm": {
     "name": "#%%\n"
    }
   }
  },
  {
   "cell_type": "code",
   "execution_count": 40,
   "outputs": [],
   "source": [
    "date = pd.to_datetime((data['date'].str.replace('Z','').str.replace('T',' ')))"
   ],
   "metadata": {
    "collapsed": false,
    "pycharm": {
     "name": "#%%\n"
    }
   }
  },
  {
   "cell_type": "markdown",
   "source": [
    "### Incidents per hour"
   ],
   "metadata": {
    "collapsed": false,
    "pycharm": {
     "name": "#%% md\n"
    }
   }
  },
  {
   "cell_type": "code",
   "execution_count": null,
   "outputs": [],
   "source": [
    "new_tables\n"
   ],
   "metadata": {
    "collapsed": false,
    "pycharm": {
     "name": "#%%\n"
    }
   }
  },
  {
   "cell_type": "code",
   "execution_count": 123,
   "outputs": [
    {
     "data": {
      "text/plain": "       id                  date         date_reported            type  \\\n700  1219  2022-05-01T10:50:00Z  2022-05-08T18:37:07Z         amenity   \n810  1367  2022-06-29T10:09:04Z  2022-06-29T10:13:49Z         amenity   \n848  1405  2022-07-12T10:56:17Z  2022-07-12T20:44:59Z  hazard-concern   \n\n     birth_year  gender   race   disability disability_type mobility_aid  ...  \\\n700        1986  female  white           no             NaN  no response  ...   \n810        1977  female  white           no             NaN  no response  ...   \n848        1950    male  white  no response             NaN  no response  ...   \n\n                                       feature_subtype         lon        lat  \\\n700                                                NaN -123.323447  48.410341   \n810                                                NaN  -82.292687  34.892758   \n848  obstruction - uneven sidewalk (eg. roots, hole...  -75.687187  45.343528   \n\n     gender_class  age age_class  mobility_aid_type_class  \\\n700         Women   36     35-44              No response   \n810         Women   45     45-54              No response   \n848           Men   72     65-74              No response   \n\n    disability_type_class hour        day  \n700                  None   10     Sunday  \n810                  None   10  Wednesday  \n848           No Response   10    Tuesday  \n\n[3 rows x 22 columns]",
      "text/html": "<div>\n<style scoped>\n    .dataframe tbody tr th:only-of-type {\n        vertical-align: middle;\n    }\n\n    .dataframe tbody tr th {\n        vertical-align: top;\n    }\n\n    .dataframe thead th {\n        text-align: right;\n    }\n</style>\n<table border=\"1\" class=\"dataframe\">\n  <thead>\n    <tr style=\"text-align: right;\">\n      <th></th>\n      <th>id</th>\n      <th>date</th>\n      <th>date_reported</th>\n      <th>type</th>\n      <th>birth_year</th>\n      <th>gender</th>\n      <th>race</th>\n      <th>disability</th>\n      <th>disability_type</th>\n      <th>mobility_aid</th>\n      <th>...</th>\n      <th>feature_subtype</th>\n      <th>lon</th>\n      <th>lat</th>\n      <th>gender_class</th>\n      <th>age</th>\n      <th>age_class</th>\n      <th>mobility_aid_type_class</th>\n      <th>disability_type_class</th>\n      <th>hour</th>\n      <th>day</th>\n    </tr>\n  </thead>\n  <tbody>\n    <tr>\n      <th>700</th>\n      <td>1219</td>\n      <td>2022-05-01T10:50:00Z</td>\n      <td>2022-05-08T18:37:07Z</td>\n      <td>amenity</td>\n      <td>1986</td>\n      <td>female</td>\n      <td>white</td>\n      <td>no</td>\n      <td>NaN</td>\n      <td>no response</td>\n      <td>...</td>\n      <td>NaN</td>\n      <td>-123.323447</td>\n      <td>48.410341</td>\n      <td>Women</td>\n      <td>36</td>\n      <td>35-44</td>\n      <td>No response</td>\n      <td>None</td>\n      <td>10</td>\n      <td>Sunday</td>\n    </tr>\n    <tr>\n      <th>810</th>\n      <td>1367</td>\n      <td>2022-06-29T10:09:04Z</td>\n      <td>2022-06-29T10:13:49Z</td>\n      <td>amenity</td>\n      <td>1977</td>\n      <td>female</td>\n      <td>white</td>\n      <td>no</td>\n      <td>NaN</td>\n      <td>no response</td>\n      <td>...</td>\n      <td>NaN</td>\n      <td>-82.292687</td>\n      <td>34.892758</td>\n      <td>Women</td>\n      <td>45</td>\n      <td>45-54</td>\n      <td>No response</td>\n      <td>None</td>\n      <td>10</td>\n      <td>Wednesday</td>\n    </tr>\n    <tr>\n      <th>848</th>\n      <td>1405</td>\n      <td>2022-07-12T10:56:17Z</td>\n      <td>2022-07-12T20:44:59Z</td>\n      <td>hazard-concern</td>\n      <td>1950</td>\n      <td>male</td>\n      <td>white</td>\n      <td>no response</td>\n      <td>NaN</td>\n      <td>no response</td>\n      <td>...</td>\n      <td>obstruction - uneven sidewalk (eg. roots, hole...</td>\n      <td>-75.687187</td>\n      <td>45.343528</td>\n      <td>Men</td>\n      <td>72</td>\n      <td>65-74</td>\n      <td>No response</td>\n      <td>No Response</td>\n      <td>10</td>\n      <td>Tuesday</td>\n    </tr>\n  </tbody>\n</table>\n<p>3 rows × 22 columns</p>\n</div>"
     },
     "execution_count": 123,
     "metadata": {},
     "output_type": "execute_result"
    }
   ],
   "source": [
    "data[data['hour']==10]"
   ],
   "metadata": {
    "collapsed": false,
    "pycharm": {
     "name": "#%%\n"
    }
   }
  },
  {
   "cell_type": "code",
   "execution_count": 105,
   "outputs": [
    {
     "data": {
      "text/plain": "      count  percentage\nhour                   \n0        69         5.0\n1        84         6.1\n2        45         3.2\n3        45         3.2\n4        34         2.4\n5        27         1.9\n6         7         0.5\n7        11         0.8\n8         4         0.3\n9         3         0.2\n10        3         0.2\n11       23         1.7\n12       30         2.2\n13       55         4.0\n14       60         4.3\n15       90         6.5\n16      130         9.4\n17      104         7.5\n18      101         7.3\n19       99         7.1\n20      100         7.2\n21       90         6.5\n22       79         5.7\n23       95         6.8",
      "text/html": "<div>\n<style scoped>\n    .dataframe tbody tr th:only-of-type {\n        vertical-align: middle;\n    }\n\n    .dataframe tbody tr th {\n        vertical-align: top;\n    }\n\n    .dataframe thead th {\n        text-align: right;\n    }\n</style>\n<table border=\"1\" class=\"dataframe\">\n  <thead>\n    <tr style=\"text-align: right;\">\n      <th></th>\n      <th>count</th>\n      <th>percentage</th>\n    </tr>\n    <tr>\n      <th>hour</th>\n      <th></th>\n      <th></th>\n    </tr>\n  </thead>\n  <tbody>\n    <tr>\n      <th>0</th>\n      <td>69</td>\n      <td>5.0</td>\n    </tr>\n    <tr>\n      <th>1</th>\n      <td>84</td>\n      <td>6.1</td>\n    </tr>\n    <tr>\n      <th>2</th>\n      <td>45</td>\n      <td>3.2</td>\n    </tr>\n    <tr>\n      <th>3</th>\n      <td>45</td>\n      <td>3.2</td>\n    </tr>\n    <tr>\n      <th>4</th>\n      <td>34</td>\n      <td>2.4</td>\n    </tr>\n    <tr>\n      <th>5</th>\n      <td>27</td>\n      <td>1.9</td>\n    </tr>\n    <tr>\n      <th>6</th>\n      <td>7</td>\n      <td>0.5</td>\n    </tr>\n    <tr>\n      <th>7</th>\n      <td>11</td>\n      <td>0.8</td>\n    </tr>\n    <tr>\n      <th>8</th>\n      <td>4</td>\n      <td>0.3</td>\n    </tr>\n    <tr>\n      <th>9</th>\n      <td>3</td>\n      <td>0.2</td>\n    </tr>\n    <tr>\n      <th>10</th>\n      <td>3</td>\n      <td>0.2</td>\n    </tr>\n    <tr>\n      <th>11</th>\n      <td>23</td>\n      <td>1.7</td>\n    </tr>\n    <tr>\n      <th>12</th>\n      <td>30</td>\n      <td>2.2</td>\n    </tr>\n    <tr>\n      <th>13</th>\n      <td>55</td>\n      <td>4.0</td>\n    </tr>\n    <tr>\n      <th>14</th>\n      <td>60</td>\n      <td>4.3</td>\n    </tr>\n    <tr>\n      <th>15</th>\n      <td>90</td>\n      <td>6.5</td>\n    </tr>\n    <tr>\n      <th>16</th>\n      <td>130</td>\n      <td>9.4</td>\n    </tr>\n    <tr>\n      <th>17</th>\n      <td>104</td>\n      <td>7.5</td>\n    </tr>\n    <tr>\n      <th>18</th>\n      <td>101</td>\n      <td>7.3</td>\n    </tr>\n    <tr>\n      <th>19</th>\n      <td>99</td>\n      <td>7.1</td>\n    </tr>\n    <tr>\n      <th>20</th>\n      <td>100</td>\n      <td>7.2</td>\n    </tr>\n    <tr>\n      <th>21</th>\n      <td>90</td>\n      <td>6.5</td>\n    </tr>\n    <tr>\n      <th>22</th>\n      <td>79</td>\n      <td>5.7</td>\n    </tr>\n    <tr>\n      <th>23</th>\n      <td>95</td>\n      <td>6.8</td>\n    </tr>\n  </tbody>\n</table>\n</div>"
     },
     "execution_count": 105,
     "metadata": {},
     "output_type": "execute_result"
    }
   ],
   "source": [
    "data['hour'] = date.dt.hour\n",
    "incidents_per_hour = DataFrame(data.groupby(data['hour']).count()['id'].rename('count'))\n",
    "incidents_per_hour['percentage'] = round(incidents_per_hour['count']/incidents_per_hour['count'].sum()*100,1)\n",
    "incidents_per_hour"
   ],
   "metadata": {
    "collapsed": false,
    "pycharm": {
     "name": "#%%\n"
    }
   }
  },
  {
   "cell_type": "markdown",
   "source": [
    "### Incidents per day (Monday=0, Sunday=6)"
   ],
   "metadata": {
    "collapsed": false,
    "pycharm": {
     "name": "#%% md\n"
    }
   }
  },
  {
   "cell_type": "code",
   "execution_count": 113,
   "outputs": [
    {
     "data": {
      "text/plain": "0      2021-05-27 22:34:00\n1      2021-05-29 19:46:42\n2      2021-05-31 17:54:58\n3      2021-06-04 17:31:46\n4      2021-06-04 21:35:00\n               ...        \n1383   2022-11-27 18:00:00\n1384   2022-12-04 19:55:30\n1385   2022-12-04 19:55:30\n1386   2022-12-04 19:55:30\n1387   2022-12-04 19:55:30\nName: date, Length: 1388, dtype: datetime64[ns]"
     },
     "execution_count": 113,
     "metadata": {},
     "output_type": "execute_result"
    }
   ],
   "source": [
    "data['day'] = date.dt.day_name()\n"
   ],
   "metadata": {
    "collapsed": false,
    "pycharm": {
     "name": "#%%\n"
    }
   }
  },
  {
   "cell_type": "code",
   "execution_count": null,
   "outputs": [],
   "source": [],
   "metadata": {
    "collapsed": false,
    "pycharm": {
     "name": "#%%\n"
    }
   }
  },
  {
   "cell_type": "code",
   "execution_count": 114,
   "outputs": [
    {
     "data": {
      "text/plain": "0       Thursday\n1       Saturday\n2         Monday\n3         Friday\n4         Friday\n          ...   \n1383      Sunday\n1384      Sunday\n1385      Sunday\n1386      Sunday\n1387      Sunday\nName: day, Length: 1388, dtype: object"
     },
     "execution_count": 114,
     "metadata": {},
     "output_type": "execute_result"
    }
   ],
   "source": [
    "data['day']"
   ],
   "metadata": {
    "collapsed": false,
    "pycharm": {
     "name": "#%%\n"
    }
   }
  },
  {
   "cell_type": "code",
   "execution_count": null,
   "outputs": [],
   "source": [
    "incidents_per_day= DataFrame(data.groupby(data['day']).count()['id'].rename('count'))\n",
    "incidents_per_hour['percentage'] = round(incidents_per_hour['count']/incidents_per_hour['count'].sum()*100,1)\n",
    "incidents_per_day"
   ],
   "metadata": {
    "collapsed": false,
    "pycharm": {
     "name": "#%%\n"
    }
   }
  },
  {
   "cell_type": "code",
   "execution_count": null,
   "outputs": [],
   "source": [
    "with pd.ExcelWriter(f\"{data_path }/output.xlsx\") as writer:\n",
    "    [item[1].to_excel(writer, sheet_name=item[0]) for item in new_tables.items()]"
   ],
   "metadata": {
    "collapsed": false,
    "pycharm": {
     "name": "#%%\n"
    }
   }
  },
  {
   "cell_type": "code",
   "execution_count": 95,
   "outputs": [],
   "source": [
    "def bivariate_analysis(main_vars:list, secondary_vars:list, name_analysis:str, field_to_store:str, staty:dict):\n",
    "    \"\"\"\n",
    "    It goes over the dictionary and calculate the cross relation between the variable inside\n",
    "    :param staty: contain summery data of the main vars\n",
    "    :param field_to_store: which field to retain after groupby and counting\n",
    "    :param name_analysis: it is used to create new folder if necessary\n",
    "    :param main_vars:\n",
    "    :param secondary_vars:\n",
    "    :return:\n",
    "    \"\"\"\n",
    "\n",
    "    res_path = f'{data_path}/{name_analysis}'\n",
    "    os.makedirs(res_path ,exist_ok = True)\n",
    "    for main_var in main_vars:\n",
    "        print(f'\\n{main_var}')\n",
    "        new_tables_data = {}\n",
    "        for other in secondary_vars:\n",
    "            print(f'{other}\\t',end=\"\")\n",
    "            # GroupBy two questions (one of which is main_var)\n",
    "            table_00 = DataFrame(data.groupby([main_var, other]).count()[field_to_store].rename(''))\n",
    "            # Get the data in readable structure\n",
    "            table_0 =table_00.unstack(fill_value=0)\n",
    "            # Clean columns and index\n",
    "            table_0.columns = table_0.columns.droplevel()\n",
    "\n",
    "            # get percentage (questions variables for each group)\n",
    "            old_columns =table_0.columns\n",
    "            table_2 = table_0.copy()\n",
    "            sum_field = staty[main_var]['count']\n",
    "            table_2[old_columns +' (%)'] = round(table_0.div(sum_field, axis=0) * 100, 1)\n",
    "            table_2['sum_field'] = sum_field\n",
    "            new_tables_data[f'{other}'] =table_2\n",
    "        with pd.ExcelWriter(f\"{res_path}/{main_var}.xlsx\") as writer:\n",
    "            [item[1].to_excel(writer, sheet_name=item[0]) for item in new_tables_data.items()]"
   ],
   "metadata": {
    "collapsed": false,
    "pycharm": {
     "name": "#%%\n"
    }
   }
  },
  {
   "cell_type": "code",
   "execution_count": 96,
   "outputs": [
    {
     "name": "stdout",
     "output_type": "stream",
     "text": [
      "\n",
      "hour\n",
      "type\tfeature_type\tfeature_subtype\t\n",
      "day\n",
      "type\tfeature_type\tfeature_subtype\t"
     ]
    }
   ],
   "source": [
    "\n",
    "\n",
    "stat= {time_data[0]:DataFrame(incidents_per_hour),time_data[1]:DataFrame(incidents_per_day)}\n",
    "other_data = ['type', 'feature_type', 'feature_subtype']\n",
    "bivariate_analysis(main_vars=time_data, secondary_vars=other_data, name_analysis='time', field_to_store='id', staty=stat)"
   ],
   "metadata": {
    "collapsed": false,
    "pycharm": {
     "name": "#%%\n"
    }
   }
  },
  {
   "cell_type": "code",
   "execution_count": 92,
   "outputs": [
    {
     "name": "stdout",
     "output_type": "stream",
     "text": [
      "hour\n",
      "type\tfeature_type\tfeature_subtype\tday\n",
      "type\tfeature_type\tfeature_subtype\t"
     ]
    }
   ],
   "source": [
    "main_vars=time_data\n",
    "secondary_vars = other_data\n",
    "name_analysis='time'\n",
    "field_to_store='id'\n",
    "staty=stat\n",
    "\n",
    "\n",
    "\n",
    "res_path = f'{data_path}/{name_analysis}'\n",
    "os.makedirs(res_path ,exist_ok = True)\n",
    "for main_var in main_vars:\n",
    "    print(main_var)\n",
    "    new_tables_data = {}\n",
    "    for other in secondary_vars:\n",
    "        print(f'{other}\\t',end=\"\")\n",
    "        # GroupBy two questions (one of which is main_var)\n",
    "        table_00 = DataFrame(data.groupby([main_var, other]).count()[field_to_store].rename(''))\n",
    "        # Get the data in readable structure\n",
    "        table_0 =table_00.unstack(fill_value=0)\n",
    "        # Clean columns and index\n",
    "        table_0.columns = table_0.columns.droplevel()\n",
    "\n",
    "        # get percentage (questions variables for each group)\n",
    "        old_columns =table_0.columns\n",
    "        table_2 = table_0.copy()\n",
    "        sum_field = staty[main_var]['count']\n",
    "        table_2[old_columns +' (%)'] = round(table_0.div(sum_field, axis=0) * 100, 1)\n",
    "        table_2['sum_field'] = sum_field\n",
    "        new_tables_data[f'{other}'] =table_2\n",
    "    with pd.ExcelWriter(f\"{res_path}/{main_var}.xlsx\") as writer:\n",
    "        [item[1].to_excel(writer, sheet_name=item[0]) for item in new_tables_data.items()]"
   ],
   "metadata": {
    "collapsed": false,
    "pycharm": {
     "name": "#%%\n"
    }
   }
  },
  {
   "cell_type": "code",
   "execution_count": 91,
   "outputs": [
    {
     "data": {
      "text/plain": "feature_subtype  animal  conflict with vehicles turning left  \\\nhour                                                           \n0                     0                                    1   \n1                     1                                    1   \n2                     0                                    0   \n3                     1                                    0   \n4                     0                                    0   \n5                     0                                    0   \n6                     0                                    0   \n7                     0                                    0   \n8                     0                                    0   \n9                     0                                    0   \n10                    0                                    0   \n11                    0                                    1   \n12                    0                                    0   \n13                    0                                    0   \n14                    0                                    0   \n15                    0                                    1   \n16                    0                                    0   \n17                    0                                    1   \n18                    0                                    0   \n19                    1                                    0   \n20                    0                                    0   \n21                    0                                    0   \n22                    0                                    1   \n23                    0                                    2   \n\nfeature_subtype  conflict with vehicles turning right  \\\nhour                                                    \n0                                                   1   \n1                                                   2   \n2                                                   0   \n3                                                   0   \n4                                                   0   \n5                                                   0   \n6                                                   0   \n7                                                   0   \n8                                                   0   \n9                                                   0   \n10                                                  0   \n11                                                  0   \n12                                                  1   \n13                                                  1   \n14                                                  0   \n15                                                  3   \n16                                                  0   \n17                                                  0   \n18                                                  5   \n19                                                  1   \n20                                                  1   \n21                                                  1   \n22                                                  0   \n23                                                  0   \n\nfeature_subtype  conflict with vehicles turning righton red  \\\nhour                                                          \n0                                                         0   \n1                                                         0   \n2                                                         0   \n3                                                         0   \n4                                                         0   \n5                                                         0   \n6                                                         0   \n7                                                         0   \n8                                                         0   \n9                                                         0   \n10                                                        0   \n11                                                        0   \n12                                                        0   \n13                                                        0   \n14                                                        1   \n15                                                        0   \n16                                                        0   \n17                                                        1   \n18                                                        0   \n19                                                        0   \n20                                                        0   \n21                                                        0   \n22                                                        0   \n23                                                        0   \n\nfeature_subtype  crosswalk markings no longer visible  crosswalk needed  \\\nhour                                                                      \n0                                                   0                 1   \n1                                                   1                 2   \n2                                                   0                 1   \n3                                                   1                 1   \n4                                                   0                 2   \n5                                                   0                 2   \n6                                                   0                 1   \n7                                                   0                 0   \n8                                                   0                 0   \n9                                                   0                 0   \n10                                                  0                 0   \n11                                                  0                 0   \n12                                                  0                 0   \n13                                                  0                 1   \n14                                                  0                 5   \n15                                                  0                 4   \n16                                                  0                 4   \n17                                                  1                 0   \n18                                                  0                 2   \n19                                                  0                 4   \n20                                                  0                 7   \n21                                                  0                 1   \n22                                                  0                 2   \n23                                                  1                 6   \n\nfeature_subtype  cyclist  drivers don't stop or yield to pedestrians  ice  \\\nhour                                                                        \n0                      0                                           6    0   \n1                      0                                           8    1   \n2                      0                                           2    0   \n3                      0                                           2    1   \n4                      0                                           4    1   \n5                      0                                           2    1   \n6                      0                                           0    0   \n7                      0                                           2    0   \n8                      0                                           1    0   \n9                      0                                           0    0   \n10                     0                                           0    0   \n11                     0                                           2    0   \n12                     1                                           0    0   \n13                     0                                           2    0   \n14                     1                                           2    0   \n15                     1                                           6    0   \n16                     0                                          10    0   \n17                     1                                          12    0   \n18                     0                                           5    1   \n19                     1                                           4    0   \n20                     1                                           6    0   \n21                     0                                           9    1   \n22                     2                                           5    0   \n23                     0                                           5    0   \n\nfeature_subtype  leaves  ...  vehicle turning left (%)  \\\nhour                     ...                             \n0                     0  ...                       5.8   \n1                     0  ...                       6.0   \n2                     0  ...                       2.2   \n3                     0  ...                       0.0   \n4                     0  ...                       0.0   \n5                     0  ...                       0.0   \n6                     0  ...                       0.0   \n7                     0  ...                       0.0   \n8                     0  ...                       0.0   \n9                     0  ...                       0.0   \n10                    0  ...                       0.0   \n11                    0  ...                       4.3   \n12                    0  ...                       0.0   \n13                    0  ...                       0.0   \n14                    0  ...                       1.7   \n15                    0  ...                       4.4   \n16                    0  ...                       0.8   \n17                    1  ...                       2.9   \n18                    1  ...                       2.0   \n19                    0  ...                       4.0   \n20                    0  ...                       4.0   \n21                    0  ...                       4.4   \n22                    1  ...                       1.3   \n23                    0  ...                       4.2   \n\nfeature_subtype  vehicle turning right (%)  vehicle turning right on red (%)  \\\nhour                                                                           \n0                                      2.9                               0.0   \n1                                      3.6                               0.0   \n2                                      0.0                               0.0   \n3                                      4.4                               0.0   \n4                                      0.0                               0.0   \n5                                      3.7                               0.0   \n6                                      0.0                               0.0   \n7                                      9.1                               0.0   \n8                                      0.0                               0.0   \n9                                      0.0                               0.0   \n10                                     0.0                               0.0   \n11                                     0.0                               0.0   \n12                                     0.0                               0.0   \n13                                     1.8                               0.0   \n14                                     3.3                               1.7   \n15                                     3.3                               1.1   \n16                                     3.1                               0.0   \n17                                     1.9                               0.0   \n18                                     3.0                               1.0   \n19                                     0.0                               2.0   \n20                                     2.0                               0.0   \n21                                     2.2                               0.0   \n22                                     3.8                               1.3   \n23                                     0.0                               0.0   \n\nfeature_subtype  vehicle-from-behind (%)  vehicle-turning-head-on (%)  \\\nhour                                                                    \n0                                    0.0                          0.0   \n1                                    0.0                          0.0   \n2                                    0.0                          0.0   \n3                                    0.0                          0.0   \n4                                    0.0                          0.0   \n5                                    0.0                          0.0   \n6                                    0.0                          0.0   \n7                                    0.0                          0.0   \n8                                    0.0                          0.0   \n9                                    0.0                          0.0   \n10                                   0.0                          0.0   \n11                                   0.0                          0.0   \n12                                   0.0                          0.0   \n13                                   0.0                          0.0   \n14                                   0.0                          0.0   \n15                                   0.0                          0.0   \n16                                   0.0                          0.0   \n17                                   1.0                          0.0   \n18                                   0.0                          0.0   \n19                                   0.0                          0.0   \n20                                   0.0                          0.0   \n21                                   0.0                          0.0   \n22                                   0.0                          1.3   \n23                                   0.0                          0.0   \n\nfeature_subtype  vehicle-turning-left (%)  vehicle-turning-right (%)  \\\nhour                                                                   \n0                                     0.0                        0.0   \n1                                     0.0                        0.0   \n2                                     0.0                        0.0   \n3                                     0.0                        0.0   \n4                                     0.0                        0.0   \n5                                     0.0                        0.0   \n6                                     0.0                        0.0   \n7                                     0.0                        0.0   \n8                                     0.0                        0.0   \n9                                     0.0                        0.0   \n10                                    0.0                        0.0   \n11                                    0.0                        0.0   \n12                                    0.0                        0.0   \n13                                    0.0                        0.0   \n14                                    0.0                        0.0   \n15                                    0.0                        0.0   \n16                                    0.0                        0.0   \n17                                    0.0                        0.0   \n18                                    0.0                        0.0   \n19                                    0.0                        1.0   \n20                                    0.0                        0.0   \n21                                    0.0                        0.0   \n22                                    1.3                        0.0   \n23                                    0.0                        0.0   \n\nfeature_subtype  vehicles - number makes uncomfortable (%)  \\\nhour                                                         \n0                                                      1.4   \n1                                                      0.0   \n2                                                      0.0   \n3                                                      2.2   \n4                                                      2.9   \n5                                                      0.0   \n6                                                      0.0   \n7                                                      0.0   \n8                                                      0.0   \n9                                                      0.0   \n10                                                     0.0   \n11                                                     0.0   \n12                                                     0.0   \n13                                                     0.0   \n14                                                     1.7   \n15                                                     4.4   \n16                                                     0.8   \n17                                                     2.9   \n18                                                     0.0   \n19                                                     1.0   \n20                                                     1.0   \n21                                                     1.1   \n22                                                     1.3   \n23                                                     0.0   \n\nfeature_subtype  vehicles - speed makes uncomfortable (%)  sum_field  \nhour                                                                  \n0                                                     8.7         69  \n1                                                     3.6         84  \n2                                                    22.2         45  \n3                                                     6.7         45  \n4                                                    11.8         34  \n5                                                     0.0         27  \n6                                                     0.0          7  \n7                                                     0.0         11  \n8                                                     0.0          4  \n9                                                     0.0          3  \n10                                                    0.0          3  \n11                                                    8.7         23  \n12                                                    3.3         30  \n13                                                    5.5         55  \n14                                                    3.3         60  \n15                                                    2.2         90  \n16                                                   14.6        130  \n17                                                    3.8        104  \n18                                                    6.9        101  \n19                                                    5.1         99  \n20                                                    5.0        100  \n21                                                   10.0         90  \n22                                                    8.9         79  \n23                                                    6.3         95  \n\n[24 rows x 101 columns]",
      "text/html": "<div>\n<style scoped>\n    .dataframe tbody tr th:only-of-type {\n        vertical-align: middle;\n    }\n\n    .dataframe tbody tr th {\n        vertical-align: top;\n    }\n\n    .dataframe thead th {\n        text-align: right;\n    }\n</style>\n<table border=\"1\" class=\"dataframe\">\n  <thead>\n    <tr style=\"text-align: right;\">\n      <th>feature_subtype</th>\n      <th>animal</th>\n      <th>conflict with vehicles turning left</th>\n      <th>conflict with vehicles turning right</th>\n      <th>conflict with vehicles turning righton red</th>\n      <th>crosswalk markings no longer visible</th>\n      <th>crosswalk needed</th>\n      <th>cyclist</th>\n      <th>drivers don't stop or yield to pedestrians</th>\n      <th>ice</th>\n      <th>leaves</th>\n      <th>...</th>\n      <th>vehicle turning left (%)</th>\n      <th>vehicle turning right (%)</th>\n      <th>vehicle turning right on red (%)</th>\n      <th>vehicle-from-behind (%)</th>\n      <th>vehicle-turning-head-on (%)</th>\n      <th>vehicle-turning-left (%)</th>\n      <th>vehicle-turning-right (%)</th>\n      <th>vehicles - number makes uncomfortable (%)</th>\n      <th>vehicles - speed makes uncomfortable (%)</th>\n      <th>sum_field</th>\n    </tr>\n    <tr>\n      <th>hour</th>\n      <th></th>\n      <th></th>\n      <th></th>\n      <th></th>\n      <th></th>\n      <th></th>\n      <th></th>\n      <th></th>\n      <th></th>\n      <th></th>\n      <th></th>\n      <th></th>\n      <th></th>\n      <th></th>\n      <th></th>\n      <th></th>\n      <th></th>\n      <th></th>\n      <th></th>\n      <th></th>\n      <th></th>\n    </tr>\n  </thead>\n  <tbody>\n    <tr>\n      <th>0</th>\n      <td>0</td>\n      <td>1</td>\n      <td>1</td>\n      <td>0</td>\n      <td>0</td>\n      <td>1</td>\n      <td>0</td>\n      <td>6</td>\n      <td>0</td>\n      <td>0</td>\n      <td>...</td>\n      <td>5.8</td>\n      <td>2.9</td>\n      <td>0.0</td>\n      <td>0.0</td>\n      <td>0.0</td>\n      <td>0.0</td>\n      <td>0.0</td>\n      <td>1.4</td>\n      <td>8.7</td>\n      <td>69</td>\n    </tr>\n    <tr>\n      <th>1</th>\n      <td>1</td>\n      <td>1</td>\n      <td>2</td>\n      <td>0</td>\n      <td>1</td>\n      <td>2</td>\n      <td>0</td>\n      <td>8</td>\n      <td>1</td>\n      <td>0</td>\n      <td>...</td>\n      <td>6.0</td>\n      <td>3.6</td>\n      <td>0.0</td>\n      <td>0.0</td>\n      <td>0.0</td>\n      <td>0.0</td>\n      <td>0.0</td>\n      <td>0.0</td>\n      <td>3.6</td>\n      <td>84</td>\n    </tr>\n    <tr>\n      <th>2</th>\n      <td>0</td>\n      <td>0</td>\n      <td>0</td>\n      <td>0</td>\n      <td>0</td>\n      <td>1</td>\n      <td>0</td>\n      <td>2</td>\n      <td>0</td>\n      <td>0</td>\n      <td>...</td>\n      <td>2.2</td>\n      <td>0.0</td>\n      <td>0.0</td>\n      <td>0.0</td>\n      <td>0.0</td>\n      <td>0.0</td>\n      <td>0.0</td>\n      <td>0.0</td>\n      <td>22.2</td>\n      <td>45</td>\n    </tr>\n    <tr>\n      <th>3</th>\n      <td>1</td>\n      <td>0</td>\n      <td>0</td>\n      <td>0</td>\n      <td>1</td>\n      <td>1</td>\n      <td>0</td>\n      <td>2</td>\n      <td>1</td>\n      <td>0</td>\n      <td>...</td>\n      <td>0.0</td>\n      <td>4.4</td>\n      <td>0.0</td>\n      <td>0.0</td>\n      <td>0.0</td>\n      <td>0.0</td>\n      <td>0.0</td>\n      <td>2.2</td>\n      <td>6.7</td>\n      <td>45</td>\n    </tr>\n    <tr>\n      <th>4</th>\n      <td>0</td>\n      <td>0</td>\n      <td>0</td>\n      <td>0</td>\n      <td>0</td>\n      <td>2</td>\n      <td>0</td>\n      <td>4</td>\n      <td>1</td>\n      <td>0</td>\n      <td>...</td>\n      <td>0.0</td>\n      <td>0.0</td>\n      <td>0.0</td>\n      <td>0.0</td>\n      <td>0.0</td>\n      <td>0.0</td>\n      <td>0.0</td>\n      <td>2.9</td>\n      <td>11.8</td>\n      <td>34</td>\n    </tr>\n    <tr>\n      <th>5</th>\n      <td>0</td>\n      <td>0</td>\n      <td>0</td>\n      <td>0</td>\n      <td>0</td>\n      <td>2</td>\n      <td>0</td>\n      <td>2</td>\n      <td>1</td>\n      <td>0</td>\n      <td>...</td>\n      <td>0.0</td>\n      <td>3.7</td>\n      <td>0.0</td>\n      <td>0.0</td>\n      <td>0.0</td>\n      <td>0.0</td>\n      <td>0.0</td>\n      <td>0.0</td>\n      <td>0.0</td>\n      <td>27</td>\n    </tr>\n    <tr>\n      <th>6</th>\n      <td>0</td>\n      <td>0</td>\n      <td>0</td>\n      <td>0</td>\n      <td>0</td>\n      <td>1</td>\n      <td>0</td>\n      <td>0</td>\n      <td>0</td>\n      <td>0</td>\n      <td>...</td>\n      <td>0.0</td>\n      <td>0.0</td>\n      <td>0.0</td>\n      <td>0.0</td>\n      <td>0.0</td>\n      <td>0.0</td>\n      <td>0.0</td>\n      <td>0.0</td>\n      <td>0.0</td>\n      <td>7</td>\n    </tr>\n    <tr>\n      <th>7</th>\n      <td>0</td>\n      <td>0</td>\n      <td>0</td>\n      <td>0</td>\n      <td>0</td>\n      <td>0</td>\n      <td>0</td>\n      <td>2</td>\n      <td>0</td>\n      <td>0</td>\n      <td>...</td>\n      <td>0.0</td>\n      <td>9.1</td>\n      <td>0.0</td>\n      <td>0.0</td>\n      <td>0.0</td>\n      <td>0.0</td>\n      <td>0.0</td>\n      <td>0.0</td>\n      <td>0.0</td>\n      <td>11</td>\n    </tr>\n    <tr>\n      <th>8</th>\n      <td>0</td>\n      <td>0</td>\n      <td>0</td>\n      <td>0</td>\n      <td>0</td>\n      <td>0</td>\n      <td>0</td>\n      <td>1</td>\n      <td>0</td>\n      <td>0</td>\n      <td>...</td>\n      <td>0.0</td>\n      <td>0.0</td>\n      <td>0.0</td>\n      <td>0.0</td>\n      <td>0.0</td>\n      <td>0.0</td>\n      <td>0.0</td>\n      <td>0.0</td>\n      <td>0.0</td>\n      <td>4</td>\n    </tr>\n    <tr>\n      <th>9</th>\n      <td>0</td>\n      <td>0</td>\n      <td>0</td>\n      <td>0</td>\n      <td>0</td>\n      <td>0</td>\n      <td>0</td>\n      <td>0</td>\n      <td>0</td>\n      <td>0</td>\n      <td>...</td>\n      <td>0.0</td>\n      <td>0.0</td>\n      <td>0.0</td>\n      <td>0.0</td>\n      <td>0.0</td>\n      <td>0.0</td>\n      <td>0.0</td>\n      <td>0.0</td>\n      <td>0.0</td>\n      <td>3</td>\n    </tr>\n    <tr>\n      <th>10</th>\n      <td>0</td>\n      <td>0</td>\n      <td>0</td>\n      <td>0</td>\n      <td>0</td>\n      <td>0</td>\n      <td>0</td>\n      <td>0</td>\n      <td>0</td>\n      <td>0</td>\n      <td>...</td>\n      <td>0.0</td>\n      <td>0.0</td>\n      <td>0.0</td>\n      <td>0.0</td>\n      <td>0.0</td>\n      <td>0.0</td>\n      <td>0.0</td>\n      <td>0.0</td>\n      <td>0.0</td>\n      <td>3</td>\n    </tr>\n    <tr>\n      <th>11</th>\n      <td>0</td>\n      <td>1</td>\n      <td>0</td>\n      <td>0</td>\n      <td>0</td>\n      <td>0</td>\n      <td>0</td>\n      <td>2</td>\n      <td>0</td>\n      <td>0</td>\n      <td>...</td>\n      <td>4.3</td>\n      <td>0.0</td>\n      <td>0.0</td>\n      <td>0.0</td>\n      <td>0.0</td>\n      <td>0.0</td>\n      <td>0.0</td>\n      <td>0.0</td>\n      <td>8.7</td>\n      <td>23</td>\n    </tr>\n    <tr>\n      <th>12</th>\n      <td>0</td>\n      <td>0</td>\n      <td>1</td>\n      <td>0</td>\n      <td>0</td>\n      <td>0</td>\n      <td>1</td>\n      <td>0</td>\n      <td>0</td>\n      <td>0</td>\n      <td>...</td>\n      <td>0.0</td>\n      <td>0.0</td>\n      <td>0.0</td>\n      <td>0.0</td>\n      <td>0.0</td>\n      <td>0.0</td>\n      <td>0.0</td>\n      <td>0.0</td>\n      <td>3.3</td>\n      <td>30</td>\n    </tr>\n    <tr>\n      <th>13</th>\n      <td>0</td>\n      <td>0</td>\n      <td>1</td>\n      <td>0</td>\n      <td>0</td>\n      <td>1</td>\n      <td>0</td>\n      <td>2</td>\n      <td>0</td>\n      <td>0</td>\n      <td>...</td>\n      <td>0.0</td>\n      <td>1.8</td>\n      <td>0.0</td>\n      <td>0.0</td>\n      <td>0.0</td>\n      <td>0.0</td>\n      <td>0.0</td>\n      <td>0.0</td>\n      <td>5.5</td>\n      <td>55</td>\n    </tr>\n    <tr>\n      <th>14</th>\n      <td>0</td>\n      <td>0</td>\n      <td>0</td>\n      <td>1</td>\n      <td>0</td>\n      <td>5</td>\n      <td>1</td>\n      <td>2</td>\n      <td>0</td>\n      <td>0</td>\n      <td>...</td>\n      <td>1.7</td>\n      <td>3.3</td>\n      <td>1.7</td>\n      <td>0.0</td>\n      <td>0.0</td>\n      <td>0.0</td>\n      <td>0.0</td>\n      <td>1.7</td>\n      <td>3.3</td>\n      <td>60</td>\n    </tr>\n    <tr>\n      <th>15</th>\n      <td>0</td>\n      <td>1</td>\n      <td>3</td>\n      <td>0</td>\n      <td>0</td>\n      <td>4</td>\n      <td>1</td>\n      <td>6</td>\n      <td>0</td>\n      <td>0</td>\n      <td>...</td>\n      <td>4.4</td>\n      <td>3.3</td>\n      <td>1.1</td>\n      <td>0.0</td>\n      <td>0.0</td>\n      <td>0.0</td>\n      <td>0.0</td>\n      <td>4.4</td>\n      <td>2.2</td>\n      <td>90</td>\n    </tr>\n    <tr>\n      <th>16</th>\n      <td>0</td>\n      <td>0</td>\n      <td>0</td>\n      <td>0</td>\n      <td>0</td>\n      <td>4</td>\n      <td>0</td>\n      <td>10</td>\n      <td>0</td>\n      <td>0</td>\n      <td>...</td>\n      <td>0.8</td>\n      <td>3.1</td>\n      <td>0.0</td>\n      <td>0.0</td>\n      <td>0.0</td>\n      <td>0.0</td>\n      <td>0.0</td>\n      <td>0.8</td>\n      <td>14.6</td>\n      <td>130</td>\n    </tr>\n    <tr>\n      <th>17</th>\n      <td>0</td>\n      <td>1</td>\n      <td>0</td>\n      <td>1</td>\n      <td>1</td>\n      <td>0</td>\n      <td>1</td>\n      <td>12</td>\n      <td>0</td>\n      <td>1</td>\n      <td>...</td>\n      <td>2.9</td>\n      <td>1.9</td>\n      <td>0.0</td>\n      <td>1.0</td>\n      <td>0.0</td>\n      <td>0.0</td>\n      <td>0.0</td>\n      <td>2.9</td>\n      <td>3.8</td>\n      <td>104</td>\n    </tr>\n    <tr>\n      <th>18</th>\n      <td>0</td>\n      <td>0</td>\n      <td>5</td>\n      <td>0</td>\n      <td>0</td>\n      <td>2</td>\n      <td>0</td>\n      <td>5</td>\n      <td>1</td>\n      <td>1</td>\n      <td>...</td>\n      <td>2.0</td>\n      <td>3.0</td>\n      <td>1.0</td>\n      <td>0.0</td>\n      <td>0.0</td>\n      <td>0.0</td>\n      <td>0.0</td>\n      <td>0.0</td>\n      <td>6.9</td>\n      <td>101</td>\n    </tr>\n    <tr>\n      <th>19</th>\n      <td>1</td>\n      <td>0</td>\n      <td>1</td>\n      <td>0</td>\n      <td>0</td>\n      <td>4</td>\n      <td>1</td>\n      <td>4</td>\n      <td>0</td>\n      <td>0</td>\n      <td>...</td>\n      <td>4.0</td>\n      <td>0.0</td>\n      <td>2.0</td>\n      <td>0.0</td>\n      <td>0.0</td>\n      <td>0.0</td>\n      <td>1.0</td>\n      <td>1.0</td>\n      <td>5.1</td>\n      <td>99</td>\n    </tr>\n    <tr>\n      <th>20</th>\n      <td>0</td>\n      <td>0</td>\n      <td>1</td>\n      <td>0</td>\n      <td>0</td>\n      <td>7</td>\n      <td>1</td>\n      <td>6</td>\n      <td>0</td>\n      <td>0</td>\n      <td>...</td>\n      <td>4.0</td>\n      <td>2.0</td>\n      <td>0.0</td>\n      <td>0.0</td>\n      <td>0.0</td>\n      <td>0.0</td>\n      <td>0.0</td>\n      <td>1.0</td>\n      <td>5.0</td>\n      <td>100</td>\n    </tr>\n    <tr>\n      <th>21</th>\n      <td>0</td>\n      <td>0</td>\n      <td>1</td>\n      <td>0</td>\n      <td>0</td>\n      <td>1</td>\n      <td>0</td>\n      <td>9</td>\n      <td>1</td>\n      <td>0</td>\n      <td>...</td>\n      <td>4.4</td>\n      <td>2.2</td>\n      <td>0.0</td>\n      <td>0.0</td>\n      <td>0.0</td>\n      <td>0.0</td>\n      <td>0.0</td>\n      <td>1.1</td>\n      <td>10.0</td>\n      <td>90</td>\n    </tr>\n    <tr>\n      <th>22</th>\n      <td>0</td>\n      <td>1</td>\n      <td>0</td>\n      <td>0</td>\n      <td>0</td>\n      <td>2</td>\n      <td>2</td>\n      <td>5</td>\n      <td>0</td>\n      <td>1</td>\n      <td>...</td>\n      <td>1.3</td>\n      <td>3.8</td>\n      <td>1.3</td>\n      <td>0.0</td>\n      <td>1.3</td>\n      <td>1.3</td>\n      <td>0.0</td>\n      <td>1.3</td>\n      <td>8.9</td>\n      <td>79</td>\n    </tr>\n    <tr>\n      <th>23</th>\n      <td>0</td>\n      <td>2</td>\n      <td>0</td>\n      <td>0</td>\n      <td>1</td>\n      <td>6</td>\n      <td>0</td>\n      <td>5</td>\n      <td>0</td>\n      <td>0</td>\n      <td>...</td>\n      <td>4.2</td>\n      <td>0.0</td>\n      <td>0.0</td>\n      <td>0.0</td>\n      <td>0.0</td>\n      <td>0.0</td>\n      <td>0.0</td>\n      <td>0.0</td>\n      <td>6.3</td>\n      <td>95</td>\n    </tr>\n  </tbody>\n</table>\n<p>24 rows × 101 columns</p>\n</div>"
     },
     "execution_count": 91,
     "metadata": {},
     "output_type": "execute_result"
    }
   ],
   "source": [
    "table_2"
   ],
   "metadata": {
    "collapsed": false,
    "pycharm": {
     "name": "#%%\n"
    }
   }
  },
  {
   "cell_type": "code",
   "execution_count": 88,
   "outputs": [
    {
     "data": {
      "text/plain": "'output/time/hour.xlsx'"
     },
     "execution_count": 88,
     "metadata": {},
     "output_type": "execute_result"
    }
   ],
   "source": [
    "f\"{res_path}/{main_var}.xlsx\""
   ],
   "metadata": {
    "collapsed": false,
    "pycharm": {
     "name": "#%%\n"
    }
   }
  },
  {
   "cell_type": "code",
   "execution_count": 84,
   "outputs": [
    {
     "data": {
      "text/plain": "type   amenity  hazard-concern  incident\nhour                                    \n0     0.362319        0.521739  0.115942\n1     0.238095        0.511905  0.250000\n2     0.288889        0.644444  0.066667\n3     0.511111        0.422222  0.066667\n4     0.441176        0.529412  0.029412\n5     0.444444        0.481481  0.074074\n6     0.285714        0.714286  0.000000\n7     0.000000        0.727273  0.272727\n8     0.500000        0.500000  0.000000\n9     0.333333        0.666667  0.000000\n10    0.666667        0.333333  0.000000\n11    0.347826        0.521739  0.130435\n12    0.566667        0.366667  0.066667\n13    0.454545        0.472727  0.072727\n14    0.283333        0.516667  0.200000\n15    0.411111        0.466667  0.122222\n16    0.392308        0.546154  0.061538\n17    0.317308        0.567308  0.115385\n18    0.316832        0.544554  0.138614\n19    0.343434        0.484848  0.171717\n20    0.260000        0.580000  0.160000\n21    0.322222        0.588889  0.088889\n22    0.329114        0.493671  0.177215\n23    0.263158        0.589474  0.147368",
      "text/html": "<div>\n<style scoped>\n    .dataframe tbody tr th:only-of-type {\n        vertical-align: middle;\n    }\n\n    .dataframe tbody tr th {\n        vertical-align: top;\n    }\n\n    .dataframe thead th {\n        text-align: right;\n    }\n</style>\n<table border=\"1\" class=\"dataframe\">\n  <thead>\n    <tr style=\"text-align: right;\">\n      <th>type</th>\n      <th>amenity</th>\n      <th>hazard-concern</th>\n      <th>incident</th>\n    </tr>\n    <tr>\n      <th>hour</th>\n      <th></th>\n      <th></th>\n      <th></th>\n    </tr>\n  </thead>\n  <tbody>\n    <tr>\n      <th>0</th>\n      <td>0.362319</td>\n      <td>0.521739</td>\n      <td>0.115942</td>\n    </tr>\n    <tr>\n      <th>1</th>\n      <td>0.238095</td>\n      <td>0.511905</td>\n      <td>0.250000</td>\n    </tr>\n    <tr>\n      <th>2</th>\n      <td>0.288889</td>\n      <td>0.644444</td>\n      <td>0.066667</td>\n    </tr>\n    <tr>\n      <th>3</th>\n      <td>0.511111</td>\n      <td>0.422222</td>\n      <td>0.066667</td>\n    </tr>\n    <tr>\n      <th>4</th>\n      <td>0.441176</td>\n      <td>0.529412</td>\n      <td>0.029412</td>\n    </tr>\n    <tr>\n      <th>5</th>\n      <td>0.444444</td>\n      <td>0.481481</td>\n      <td>0.074074</td>\n    </tr>\n    <tr>\n      <th>6</th>\n      <td>0.285714</td>\n      <td>0.714286</td>\n      <td>0.000000</td>\n    </tr>\n    <tr>\n      <th>7</th>\n      <td>0.000000</td>\n      <td>0.727273</td>\n      <td>0.272727</td>\n    </tr>\n    <tr>\n      <th>8</th>\n      <td>0.500000</td>\n      <td>0.500000</td>\n      <td>0.000000</td>\n    </tr>\n    <tr>\n      <th>9</th>\n      <td>0.333333</td>\n      <td>0.666667</td>\n      <td>0.000000</td>\n    </tr>\n    <tr>\n      <th>10</th>\n      <td>0.666667</td>\n      <td>0.333333</td>\n      <td>0.000000</td>\n    </tr>\n    <tr>\n      <th>11</th>\n      <td>0.347826</td>\n      <td>0.521739</td>\n      <td>0.130435</td>\n    </tr>\n    <tr>\n      <th>12</th>\n      <td>0.566667</td>\n      <td>0.366667</td>\n      <td>0.066667</td>\n    </tr>\n    <tr>\n      <th>13</th>\n      <td>0.454545</td>\n      <td>0.472727</td>\n      <td>0.072727</td>\n    </tr>\n    <tr>\n      <th>14</th>\n      <td>0.283333</td>\n      <td>0.516667</td>\n      <td>0.200000</td>\n    </tr>\n    <tr>\n      <th>15</th>\n      <td>0.411111</td>\n      <td>0.466667</td>\n      <td>0.122222</td>\n    </tr>\n    <tr>\n      <th>16</th>\n      <td>0.392308</td>\n      <td>0.546154</td>\n      <td>0.061538</td>\n    </tr>\n    <tr>\n      <th>17</th>\n      <td>0.317308</td>\n      <td>0.567308</td>\n      <td>0.115385</td>\n    </tr>\n    <tr>\n      <th>18</th>\n      <td>0.316832</td>\n      <td>0.544554</td>\n      <td>0.138614</td>\n    </tr>\n    <tr>\n      <th>19</th>\n      <td>0.343434</td>\n      <td>0.484848</td>\n      <td>0.171717</td>\n    </tr>\n    <tr>\n      <th>20</th>\n      <td>0.260000</td>\n      <td>0.580000</td>\n      <td>0.160000</td>\n    </tr>\n    <tr>\n      <th>21</th>\n      <td>0.322222</td>\n      <td>0.588889</td>\n      <td>0.088889</td>\n    </tr>\n    <tr>\n      <th>22</th>\n      <td>0.329114</td>\n      <td>0.493671</td>\n      <td>0.177215</td>\n    </tr>\n    <tr>\n      <th>23</th>\n      <td>0.263158</td>\n      <td>0.589474</td>\n      <td>0.147368</td>\n    </tr>\n  </tbody>\n</table>\n</div>"
     },
     "execution_count": 84,
     "metadata": {},
     "output_type": "execute_result"
    }
   ],
   "source": [],
   "metadata": {
    "collapsed": false,
    "pycharm": {
     "name": "#%%\n"
    }
   }
  }
 ],
 "metadata": {
  "kernelspec": {
   "display_name": "Python 3",
   "language": "python",
   "name": "python3"
  },
  "language_info": {
   "codemirror_mode": {
    "name": "ipython",
    "version": 2
   },
   "file_extension": ".py",
   "mimetype": "text/x-python",
   "name": "python",
   "nbconvert_exporter": "python",
   "pygments_lexer": "ipython2",
   "version": "2.7.6"
  }
 },
 "nbformat": 4,
 "nbformat_minor": 0
}