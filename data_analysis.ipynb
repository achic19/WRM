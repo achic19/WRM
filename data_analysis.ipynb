{
 "cells": [
  {
   "cell_type": "code",
   "execution_count": 1,
   "outputs": [],
   "source": [
    "import geopandas as gpd\n",
    "import pandas as pd\n",
    "from pandas import DataFrame,Series\n",
    "import os\n",
    "data_path = 'output'\n",
    "field_to_count='id' # Field that contains a value (not null) in each row.\n",
    "percentage = 'percentage (%)'\n",
    "count = 'count'\n",
    "time_data = ['hour','day']\n",
    "\n",
    "\n"
   ],
   "metadata": {
    "collapsed": false,
    "pycharm": {
     "name": "#%%\n"
    }
   }
  },
  {
   "cell_type": "code",
   "execution_count": 3,
   "outputs": [
    {
     "data": {
      "text/plain": "        id                  date         date_reported            type  \\\n0        4  2021-05-27T22:34:00Z  2021-05-28T22:50:36Z        incident   \n1        7  2021-05-29T19:46:42Z  2021-05-29T20:01:09Z        incident   \n2        8  2021-05-31T17:54:58Z  2021-05-31T18:00:16Z         amenity   \n3       16  2021-06-04T17:31:46Z  2021-06-04T17:56:33Z        incident   \n4       17  2021-06-04T21:35:00Z  2021-06-04T21:41:11Z         amenity   \n...    ...                   ...                   ...             ...   \n1383  1987  2022-11-27T18:00:00Z  2022-12-04T20:03:10Z  hazard-concern   \n1384  1988  2022-12-04T19:55:30Z  2022-12-04T20:05:26Z  hazard-concern   \n1385  1989  2022-12-04T19:55:30Z  2022-12-04T20:08:21Z         amenity   \n1386  1990  2022-12-04T19:55:30Z  2022-12-04T20:11:31Z         amenity   \n1387  1991  2022-12-04T19:55:30Z  2022-12-04T20:13:56Z         amenity   \n\n      birth_year       gender         race disability disability_type  \\\n0           1971       female        white         no             NaN   \n1           2000  no-response  no-response         no             NaN   \n2           1982         male        white         no             NaN   \n3           1982         male        white         no             NaN   \n4           1993       female        white         no             NaN   \n...          ...          ...          ...        ...             ...   \n1383        1975         male        black         no             NaN   \n1384        1975       female        black         no             NaN   \n1385        1986         male        white         no             NaN   \n1386        1962         male       latino         no             NaN   \n1387        1998       female   indigenous        yes       cognitive   \n\n     mobility_aid mobility_aid_type            feature_type  \\\n0     no response               NaN               near-miss   \n1     no response               NaN               near-miss   \n2     no response               NaN                sidewalk   \n3     no response               NaN               near-miss   \n4     no response               NaN                 transit   \n...           ...               ...                     ...   \n1383  no response               NaN  safety/comfort concern   \n1384  no response               NaN  safety/comfort concern   \n1385  no response               NaN                sidewalk   \n1386  no response               NaN                sidewalk   \n1387           no               NaN                   other   \n\n                           feature_subtype         lon        lat  \\\n0                  vehicle-turning-head-on -123.434508  48.459019   \n1                    vehicle-turning-right -123.316472  48.433674   \n2                                      NaN -123.039638  49.288649   \n3                      vehicle-from-behind -123.036018  49.281230   \n4                                      NaN -123.193901  49.263620   \n...                                    ...         ...        ...   \n1383  vehicles - speed makes uncomfortable  -75.700354  45.497378   \n1384  vehicles - speed makes uncomfortable  -75.699729  45.501452   \n1385                                   NaN  -75.696871  45.496891   \n1386                                   NaN  -75.691793  45.504402   \n1387                                   NaN  -75.688054  45.504698   \n\n     gender_class  age age_class mobility_aid_type_class disability_type_class  \n0           Women   50     45-54             No response                  None  \n1     No Response   21     18-24             No response                  None  \n2             Men   39     35-44             No response                  None  \n3             Men   39     35-44             No response                  None  \n4           Women   28     25-34             No response                  None  \n...           ...  ...       ...                     ...                   ...  \n1383          Men   47     45-54             No response                  None  \n1384        Women   47     45-54             No response                  None  \n1385          Men   36     35-44             No response                  None  \n1386          Men   60     55-64             No response                  None  \n1387        Women   24     18-24                    None             Cognitive  \n\n[1388 rows x 20 columns]",
      "text/html": "<div>\n<style scoped>\n    .dataframe tbody tr th:only-of-type {\n        vertical-align: middle;\n    }\n\n    .dataframe tbody tr th {\n        vertical-align: top;\n    }\n\n    .dataframe thead th {\n        text-align: right;\n    }\n</style>\n<table border=\"1\" class=\"dataframe\">\n  <thead>\n    <tr style=\"text-align: right;\">\n      <th></th>\n      <th>id</th>\n      <th>date</th>\n      <th>date_reported</th>\n      <th>type</th>\n      <th>birth_year</th>\n      <th>gender</th>\n      <th>race</th>\n      <th>disability</th>\n      <th>disability_type</th>\n      <th>mobility_aid</th>\n      <th>mobility_aid_type</th>\n      <th>feature_type</th>\n      <th>feature_subtype</th>\n      <th>lon</th>\n      <th>lat</th>\n      <th>gender_class</th>\n      <th>age</th>\n      <th>age_class</th>\n      <th>mobility_aid_type_class</th>\n      <th>disability_type_class</th>\n    </tr>\n  </thead>\n  <tbody>\n    <tr>\n      <th>0</th>\n      <td>4</td>\n      <td>2021-05-27T22:34:00Z</td>\n      <td>2021-05-28T22:50:36Z</td>\n      <td>incident</td>\n      <td>1971</td>\n      <td>female</td>\n      <td>white</td>\n      <td>no</td>\n      <td>NaN</td>\n      <td>no response</td>\n      <td>NaN</td>\n      <td>near-miss</td>\n      <td>vehicle-turning-head-on</td>\n      <td>-123.434508</td>\n      <td>48.459019</td>\n      <td>Women</td>\n      <td>50</td>\n      <td>45-54</td>\n      <td>No response</td>\n      <td>None</td>\n    </tr>\n    <tr>\n      <th>1</th>\n      <td>7</td>\n      <td>2021-05-29T19:46:42Z</td>\n      <td>2021-05-29T20:01:09Z</td>\n      <td>incident</td>\n      <td>2000</td>\n      <td>no-response</td>\n      <td>no-response</td>\n      <td>no</td>\n      <td>NaN</td>\n      <td>no response</td>\n      <td>NaN</td>\n      <td>near-miss</td>\n      <td>vehicle-turning-right</td>\n      <td>-123.316472</td>\n      <td>48.433674</td>\n      <td>No Response</td>\n      <td>21</td>\n      <td>18-24</td>\n      <td>No response</td>\n      <td>None</td>\n    </tr>\n    <tr>\n      <th>2</th>\n      <td>8</td>\n      <td>2021-05-31T17:54:58Z</td>\n      <td>2021-05-31T18:00:16Z</td>\n      <td>amenity</td>\n      <td>1982</td>\n      <td>male</td>\n      <td>white</td>\n      <td>no</td>\n      <td>NaN</td>\n      <td>no response</td>\n      <td>NaN</td>\n      <td>sidewalk</td>\n      <td>NaN</td>\n      <td>-123.039638</td>\n      <td>49.288649</td>\n      <td>Men</td>\n      <td>39</td>\n      <td>35-44</td>\n      <td>No response</td>\n      <td>None</td>\n    </tr>\n    <tr>\n      <th>3</th>\n      <td>16</td>\n      <td>2021-06-04T17:31:46Z</td>\n      <td>2021-06-04T17:56:33Z</td>\n      <td>incident</td>\n      <td>1982</td>\n      <td>male</td>\n      <td>white</td>\n      <td>no</td>\n      <td>NaN</td>\n      <td>no response</td>\n      <td>NaN</td>\n      <td>near-miss</td>\n      <td>vehicle-from-behind</td>\n      <td>-123.036018</td>\n      <td>49.281230</td>\n      <td>Men</td>\n      <td>39</td>\n      <td>35-44</td>\n      <td>No response</td>\n      <td>None</td>\n    </tr>\n    <tr>\n      <th>4</th>\n      <td>17</td>\n      <td>2021-06-04T21:35:00Z</td>\n      <td>2021-06-04T21:41:11Z</td>\n      <td>amenity</td>\n      <td>1993</td>\n      <td>female</td>\n      <td>white</td>\n      <td>no</td>\n      <td>NaN</td>\n      <td>no response</td>\n      <td>NaN</td>\n      <td>transit</td>\n      <td>NaN</td>\n      <td>-123.193901</td>\n      <td>49.263620</td>\n      <td>Women</td>\n      <td>28</td>\n      <td>25-34</td>\n      <td>No response</td>\n      <td>None</td>\n    </tr>\n    <tr>\n      <th>...</th>\n      <td>...</td>\n      <td>...</td>\n      <td>...</td>\n      <td>...</td>\n      <td>...</td>\n      <td>...</td>\n      <td>...</td>\n      <td>...</td>\n      <td>...</td>\n      <td>...</td>\n      <td>...</td>\n      <td>...</td>\n      <td>...</td>\n      <td>...</td>\n      <td>...</td>\n      <td>...</td>\n      <td>...</td>\n      <td>...</td>\n      <td>...</td>\n      <td>...</td>\n    </tr>\n    <tr>\n      <th>1383</th>\n      <td>1987</td>\n      <td>2022-11-27T18:00:00Z</td>\n      <td>2022-12-04T20:03:10Z</td>\n      <td>hazard-concern</td>\n      <td>1975</td>\n      <td>male</td>\n      <td>black</td>\n      <td>no</td>\n      <td>NaN</td>\n      <td>no response</td>\n      <td>NaN</td>\n      <td>safety/comfort concern</td>\n      <td>vehicles - speed makes uncomfortable</td>\n      <td>-75.700354</td>\n      <td>45.497378</td>\n      <td>Men</td>\n      <td>47</td>\n      <td>45-54</td>\n      <td>No response</td>\n      <td>None</td>\n    </tr>\n    <tr>\n      <th>1384</th>\n      <td>1988</td>\n      <td>2022-12-04T19:55:30Z</td>\n      <td>2022-12-04T20:05:26Z</td>\n      <td>hazard-concern</td>\n      <td>1975</td>\n      <td>female</td>\n      <td>black</td>\n      <td>no</td>\n      <td>NaN</td>\n      <td>no response</td>\n      <td>NaN</td>\n      <td>safety/comfort concern</td>\n      <td>vehicles - speed makes uncomfortable</td>\n      <td>-75.699729</td>\n      <td>45.501452</td>\n      <td>Women</td>\n      <td>47</td>\n      <td>45-54</td>\n      <td>No response</td>\n      <td>None</td>\n    </tr>\n    <tr>\n      <th>1385</th>\n      <td>1989</td>\n      <td>2022-12-04T19:55:30Z</td>\n      <td>2022-12-04T20:08:21Z</td>\n      <td>amenity</td>\n      <td>1986</td>\n      <td>male</td>\n      <td>white</td>\n      <td>no</td>\n      <td>NaN</td>\n      <td>no response</td>\n      <td>NaN</td>\n      <td>sidewalk</td>\n      <td>NaN</td>\n      <td>-75.696871</td>\n      <td>45.496891</td>\n      <td>Men</td>\n      <td>36</td>\n      <td>35-44</td>\n      <td>No response</td>\n      <td>None</td>\n    </tr>\n    <tr>\n      <th>1386</th>\n      <td>1990</td>\n      <td>2022-12-04T19:55:30Z</td>\n      <td>2022-12-04T20:11:31Z</td>\n      <td>amenity</td>\n      <td>1962</td>\n      <td>male</td>\n      <td>latino</td>\n      <td>no</td>\n      <td>NaN</td>\n      <td>no response</td>\n      <td>NaN</td>\n      <td>sidewalk</td>\n      <td>NaN</td>\n      <td>-75.691793</td>\n      <td>45.504402</td>\n      <td>Men</td>\n      <td>60</td>\n      <td>55-64</td>\n      <td>No response</td>\n      <td>None</td>\n    </tr>\n    <tr>\n      <th>1387</th>\n      <td>1991</td>\n      <td>2022-12-04T19:55:30Z</td>\n      <td>2022-12-04T20:13:56Z</td>\n      <td>amenity</td>\n      <td>1998</td>\n      <td>female</td>\n      <td>indigenous</td>\n      <td>yes</td>\n      <td>cognitive</td>\n      <td>no</td>\n      <td>NaN</td>\n      <td>other</td>\n      <td>NaN</td>\n      <td>-75.688054</td>\n      <td>45.504698</td>\n      <td>Women</td>\n      <td>24</td>\n      <td>18-24</td>\n      <td>None</td>\n      <td>Cognitive</td>\n    </tr>\n  </tbody>\n</table>\n<p>1388 rows × 20 columns</p>\n</div>"
     },
     "execution_count": 3,
     "metadata": {},
     "output_type": "execute_result"
    }
   ],
   "source": [
    "path = \"wrm_demographics_2022-12-05.csv\"\n",
    "ir_fields =['description','geometry',]\n",
    "data_0 = pd.read_csv(path)\n",
    "data = data_0.drop(ir_fields,axis=1)\n",
    "data"
   ],
   "metadata": {
    "collapsed": false,
    "pycharm": {
     "name": "#%%\n"
    }
   }
  },
  {
   "cell_type": "code",
   "execution_count": 2,
   "outputs": [],
   "source": [
    "univariate_columns =['date','type','gender_class','race','disability','disability_type','mobility_aid','feature_type','feature_subtype','age_class', 'mobility_aid_type_class', 'disability_type_class']"
   ],
   "metadata": {
    "collapsed": false,
    "pycharm": {
     "name": "#%%\n"
    }
   }
  },
  {
   "cell_type": "code",
   "execution_count": 28,
   "outputs": [],
   "source": [
    "def var_groupby(groupby_field:str)-> DataFrame:\n",
    "    \"\"\"\n",
    "    The method counts the number of results (and percentage) in the same category.\n",
    "    :param groupby_field\n",
    "    :return:\n",
    "    \"\"\"\n",
    "    groupby_data = DataFrame(data.groupby(data[groupby_field]).count()[field_to_count].rename(count))\n",
    "    groupby_data [percentage] = round(groupby_data[count]/groupby_data[count].sum()*100,1)\n",
    "    # Sort all variables by percentage (except time variables)\n",
    "    if not  groupby_field in  time_data:\n",
    "        groupby_data.sort_values(inplace=True,by=percentage,ascending=False)\n",
    "\n",
    "    #  sort by weekday\n",
    "    if groupby_field=='day':\n",
    "        cats = {'Sunday':1, 'Monday':2, 'Tuesday':3, 'Wednesday':4, 'Thursday':5, 'Friday':6, 'Saturday':7}\n",
    "        day_as_num= 'day_as_num'\n",
    "\n",
    "        groupby_data['day_as_num'] = groupby_data.apply(lambda x:cats[x.name],axis=1)\n",
    "        groupby_data =  groupby_data.sort_values(by =day_as_num).drop(columns=[day_as_num])\n",
    "    groupby_data.loc['sum'] = groupby_data.sum()\n",
    "\n",
    "    return groupby_data"
   ],
   "metadata": {
    "collapsed": false,
    "pycharm": {
     "name": "#%%\n"
    }
   }
  },
  {
   "cell_type": "code",
   "execution_count": 29,
   "outputs": [],
   "source": [
    "new_tables = {}\n",
    "\n",
    "for var in univariate_columns:\n",
    "    # calculate group by and percentage\n",
    "\n",
    "    if var=='date':\n",
    "        # specific analysis\n",
    "        date = pd.to_datetime((data['date'].str.replace('Z','').str.replace('T',' ')))\n",
    "        hour,day  = 'hour','day'\n",
    "        data[hour],data[day] = date.dt.hour, date.dt.day_name()\n",
    "\n",
    "        new_tables[hour] = var_groupby(groupby_field=hour)\n",
    "        new_tables[day] = var_groupby(groupby_field=day)\n",
    "    else:\n",
    "        new_tables[var] = var_groupby(groupby_field=var)\n",
    "\n",
    "# save\n",
    "with pd.ExcelWriter(f\"{data_path}/univariate.xlsx\") as writer:\n",
    "    [item[1].to_excel(writer, sheet_name=item[0]) for item in new_tables.items()]"
   ],
   "metadata": {
    "collapsed": false,
    "pycharm": {
     "name": "#%%\n"
    }
   }
  },
  {
   "cell_type": "code",
   "execution_count": 23,
   "outputs": [
    {
     "data": {
      "text/plain": "{'hour':       count  percentage (%)\n hour                       \n 0        69             5.0\n 1        84             6.1\n 2        45             3.2\n 3        45             3.2\n 4        34             2.4\n 5        27             1.9\n 6         7             0.5\n 7        11             0.8\n 8         4             0.3\n 9         3             0.2\n 10        3             0.2\n 11       23             1.7\n 12       30             2.2\n 13       55             4.0\n 14       60             4.3\n 15       90             6.5\n 16      130             9.4\n 17      104             7.5\n 18      101             7.3\n 19       99             7.1\n 20      100             7.2\n 21       90             6.5\n 22       79             5.7\n 23       95             6.8,\n 'day':            count  percentage (%)\n day                             \n Sunday       166            12.0\n Monday       166            12.0\n Tuesday      217            15.6\n Wednesday    264            19.0\n Thursday     208            15.0\n Friday       228            16.4\n Saturday     139            10.0,\n 'type':                 count  percentage (%)\n type                                 \n hazard-concern    737            53.1\n amenity           475            34.2\n incident          176            12.7,\n 'gender_class':               count  percentage (%)\n gender_class                       \n Women           670            48.3\n Men             522            37.6\n No Response     174            12.5\n Non-Binary       22             1.6,\n 'race':                                           count  percentage (%)\n race                                                           \n white                                      1009            72.7\n no response                                 233            16.8\n other                                        18             1.3\n indigenous                                   16             1.2\n southeast asian                              13             0.9\n south asisan                                 10             0.7\n middle eastern                                9             0.6\n east asian                                    8             0.6\n indigenous,white                              9             0.6\n black                                         7             0.5\n latino                                        7             0.5\n white,indigenous                              5             0.4\n latino,white                                  6             0.4\n south asisan,white                            6             0.4\n white,south asisan                            4             0.3\n indigenous,latino                             3             0.2\n white,latino                                  2             0.1\n white,black                                   1             0.1\n white,middle eastern                          1             0.1\n white,other                                   1             0.1\n southeast asian,white                         1             0.1\n southeast asian,south asisan                  1             0.1\n southeast asian,east asian                    2             0.1\n other, Parent                                 1             0.1\n other,Brad                                    1             0.1\n other, Worker                                 1             0.1\n other, Test                                   1             0.1\n other, Pas d'origine précise                  1             0.1\n black,east asian,indigenous,south asisan      1             0.1\n other, Dutch canadian                         1             0.1\n other, Brad sweezey                           1             0.1\n no-response                                   1             0.1\n middle eastern,white                          2             0.1\n latino,middle eastern,south asisan            1             0.1\n indigenous,east asian                         1             0.1\n east asian,southeast asian                    1             0.1\n black,white,other, Disabled senior            1             0.1\n white,southeast asian                         1             0.1,\n 'disability':              count  percentage (%)\n disability                        \n no            1121            80.8\n yes            150            10.8\n no response    117             8.4,\n 'disability_type':                                            count  percentage (%)\n disability_type                                                 \n mobility                                      81            54.0\n cognitive                                     31            20.7\n no response                                    8             5.3\n other                                          7             4.7\n other - Autism                                 5             3.3\n other - Fractures                              4             2.7\n hearing                                        3             2.0\n visual                                         3             2.0\n other - Mental health/ digestive               2             1.3\n other - Misophia                               2             1.3\n other - Cronic Fibromyalgia/mygraine etc.      1             0.7\n other - Heart                                  1             0.7\n other - Spinal fractures                       1             0.7\n other - mobility and supplemental oxygen       1             0.7,\n 'mobility_aid':               count  percentage (%)\n mobility_aid                       \n no response    1241            89.4\n yes              86             6.2\n no               61             4.4,\n 'feature_type':                                        count  percentage (%)\n feature_type                                                \n crossing issue                           271            19.5\n safety/comfort concern                   230            16.6\n sidewalk                                 202            14.6\n side walk infrastructure issue           202            14.6\n near miss                                129             9.3\n marked crosswalk                          99             7.1\n other                                     41             3.0\n hit by                                    36             2.6\n weather related or seasonal               34             2.4\n traffic or pedestrian signal              22             1.6\n connections (e.g. cut-through needed)     21             1.5\n curb cut                                  19             1.4\n benches                                   16             1.2\n lighting or additional lighting           13             0.9\n washroom                                  12             0.9\n wayfinding signs                          11             0.8\n fall                                       7             0.5\n shade in summer                            7             0.5\n near-miss                                  4             0.3\n stop sign                                  4             0.3\n access to transit stop                     4             0.3\n audible                                    2             0.1\n transit                                    1             0.1\n water fountain                             1             0.1,\n 'feature_subtype':                                                     count  percentage (%)\n feature_subtype                                                          \n other                                                 134            14.7\n vehicles - speed makes uncomfortable                   98            10.7\n drivers don't stop or yield to pedestrians             95            10.4\n vehicle turning head-on                                61             6.7\n obstruction - uneven sidewalk (eg. roots, holes...     57             6.2\n crosswalk needed                                       46             5.0\n vehicle turning left                                   39             4.3\n other users - bicycle                                  36             3.9\n vehicle turning right                                  31             3.4\n signal - pedestrian interval too short                 28             3.1\n poor visibility of pedestrians                         26             2.8\n too narrrow                                            24             2.6\n obstruction - inadequate or lack of safe detour...     19             2.1\n snow                                                   18             2.0\n obstruction - pole (hydro, telephone)                  16             1.8\n vehicles - number makes uncomfortable                  16             1.8\n conflict with vehicles turning right                   16             1.8\n obstruction - vegetaion that narrows pathway           14             1.5\n vehicle from behind                                    12             1.3\n signal - wait time to cross too long                   12             1.3\n missing curb cut                                       11             1.2\n personal safety - inaequate lighting                   10             1.1\n conflict with vehicles turning left                     8             0.9\n cyclist                                                 8             0.9\n uncomfortable service (for wheelchairs, etc.)           8             0.9\n vehicle turning right on red                            6             0.7\n ice                                                     6             0.7\n obstruction - parked vehicles or delivery vans          6             0.7\n slope issues (eg. driveways)                            5             0.5\n other users - dogs                                      5             0.5\n other users - mobility scooters/electric wheelc...      4             0.4\n crosswalk markings no longer visible                    4             0.4\n signal - button difficult to access                     4             0.4\n leaves                                                  3             0.3\n animal                                                  3             0.3\n slipped                                                 3             0.3\n personal safety - harassement or unwanted atten...      3             0.3\n tripped                                                 2             0.2\n signal - needs an audible                               2             0.2\n puddles, flooding, splash zone                          2             0.2\n personal safety - isolated                              2             0.2\n conflict with vehicles turning righton red              2             0.2\n obstruction - garbage or recycling bins                 1             0.1\n personal safety - gathering of unknown people           1             0.1\n obstruction - sign blocking path                        1             0.1\n vehicle-from-behind                                     1             0.1\n vehicle-turning-head-on                                 1             0.1\n vehicle-turning-left                                    1             0.1\n vehicle-turning-right                                   1             0.1\n obstruction - bus shelter                               1             0.1,\n 'age_class':               count  percentage (%)\n age_class                          \n 35-44           409            29.5\n 25-34           282            20.3\n 45-54           200            14.4\n 55-64           159            11.5\n 18-24           123             8.9\n 65-74           107             7.7\n 75+              61             4.4\n 12 and under     34             2.4\n 13-17            13             0.9,\n 'mobility_aid_type_class':                          count  percentage (%)\n mobility_aid_type_class                       \n No response               1241            89.4\n None                        61             4.4\n Cane/Crutches/Walker        45             3.2\n Wheel chair                 34             2.4\n Other                        7             0.5,\n 'disability_type_class':                         count  percentage (%)\n disability_type_class                        \n None                   1121.0            80.8\n No Response             125.0             9.0\n Mobility                 81.0             5.8\n Cognitive                31.0             2.2\n Other                    24.0             1.7\n Hearing                   3.0             0.2\n Visual                    3.0             0.2\n sum                    1388.0            99.9}"
     },
     "execution_count": 23,
     "metadata": {},
     "output_type": "execute_result"
    }
   ],
   "source": [
    "new_tables\n"
   ],
   "metadata": {
    "collapsed": false,
    "pycharm": {
     "name": "#%%\n"
    }
   }
  },
  {
   "cell_type": "code",
   "execution_count": 22,
   "outputs": [
    {
     "data": {
      "text/plain": "                        count  percentage (%)\ndisability_type_class                        \nNone                   1121.0            80.8\nNo Response             125.0             9.0\nMobility                 81.0             5.8\nCognitive                31.0             2.2\nOther                    24.0             1.7\nHearing                   3.0             0.2\nVisual                    3.0             0.2\nsum                    1388.0            99.9",
      "text/html": "<div>\n<style scoped>\n    .dataframe tbody tr th:only-of-type {\n        vertical-align: middle;\n    }\n\n    .dataframe tbody tr th {\n        vertical-align: top;\n    }\n\n    .dataframe thead th {\n        text-align: right;\n    }\n</style>\n<table border=\"1\" class=\"dataframe\">\n  <thead>\n    <tr style=\"text-align: right;\">\n      <th></th>\n      <th>count</th>\n      <th>percentage (%)</th>\n    </tr>\n    <tr>\n      <th>disability_type_class</th>\n      <th></th>\n      <th></th>\n    </tr>\n  </thead>\n  <tbody>\n    <tr>\n      <th>None</th>\n      <td>1121.0</td>\n      <td>80.8</td>\n    </tr>\n    <tr>\n      <th>No Response</th>\n      <td>125.0</td>\n      <td>9.0</td>\n    </tr>\n    <tr>\n      <th>Mobility</th>\n      <td>81.0</td>\n      <td>5.8</td>\n    </tr>\n    <tr>\n      <th>Cognitive</th>\n      <td>31.0</td>\n      <td>2.2</td>\n    </tr>\n    <tr>\n      <th>Other</th>\n      <td>24.0</td>\n      <td>1.7</td>\n    </tr>\n    <tr>\n      <th>Hearing</th>\n      <td>3.0</td>\n      <td>0.2</td>\n    </tr>\n    <tr>\n      <th>Visual</th>\n      <td>3.0</td>\n      <td>0.2</td>\n    </tr>\n    <tr>\n      <th>sum</th>\n      <td>1388.0</td>\n      <td>99.9</td>\n    </tr>\n  </tbody>\n</table>\n</div>"
     },
     "execution_count": 22,
     "metadata": {},
     "output_type": "execute_result"
    }
   ],
   "source": [
    "new_tables[var]"
   ],
   "metadata": {
    "collapsed": false,
    "pycharm": {
     "name": "#%%\n"
    }
   }
  },
  {
   "cell_type": "code",
   "execution_count": null,
   "outputs": [],
   "source": [],
   "metadata": {
    "collapsed": false,
    "pycharm": {
     "name": "#%%\n"
    }
   }
  }
 ],
 "metadata": {
  "kernelspec": {
   "display_name": "Python 3",
   "language": "python",
   "name": "python3"
  },
  "language_info": {
   "codemirror_mode": {
    "name": "ipython",
    "version": 2
   },
   "file_extension": ".py",
   "mimetype": "text/x-python",
   "name": "python",
   "nbconvert_exporter": "python",
   "pygments_lexer": "ipython2",
   "version": "2.7.6"
  }
 },
 "nbformat": 4,
 "nbformat_minor": 0
}